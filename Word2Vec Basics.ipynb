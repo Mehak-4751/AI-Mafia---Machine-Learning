{
 "cells": [
  {
   "cell_type": "markdown",
   "metadata": {},
   "source": [
    "\n",
    "## Word2Vec Model\n",
    "- Word2Vec Google's Pretrained Model\n",
    "- Contains vector representations of 50 billion words\n",
    "\n",
    "- Words which are similar in context have similar vectors\n",
    "- Distance/Similarity between two words can be measured using Cosine Distance\n"
   ]
  },
  {
   "cell_type": "markdown",
   "metadata": {},
   "source": [
    "### Applications\n",
    "- Text Similarity\n",
    "- Language Translation\n",
    "- Finding Odd Words\n",
    "- Word Analogies\n"
   ]
  },
  {
   "cell_type": "markdown",
   "metadata": {},
   "source": [
    "### Word Embeddings\n",
    "- Word embeddings are numerical representation of words, in the form of vectors.\n",
    "\n",
    "- Word2Vec Model represents each word as 300 Dimensional Vector\n",
    "\n",
    "- In this project we are going to see how to use pre-trained word2vec model.\n",
    "- Model size is around 1.5 GB\n",
    "- We will work using Gensim, which is popular NLP Package.\n"
   ]
  },
  {
   "cell_type": "markdown",
   "metadata": {},
   "source": [
    "Gensim's Word2Vec Model provides optimum implementation of \n",
    "\n",
    "1) **CBOW** Model \n",
    "\n",
    "2) **SkipGram Model**\n",
    "\n",
    "\n",
    "Paper 1 [Efficient Estimation of Word Representations in\n",
    "Vector Space](https://arxiv.org/pdf/1301.3781.pdf)\n",
    "\n",
    "\n",
    "Paper 2 [Distributed Representations of Words and Phrases and their Compositionality\n",
    "](https://arxiv.org/abs/1310.4546)"
   ]
  },
  {
   "cell_type": "markdown",
   "metadata": {},
   "source": [
    "### Word2Vec using Gensim\n",
    "`Link https://radimrehurek.com/gensim/models/word2vec.html`"
   ]
  },
  {
   "cell_type": "markdown",
   "metadata": {},
   "source": [
    "### CODE ##"
   ]
  },
  {
   "cell_type": "markdown",
   "metadata": {},
   "source": [
    "##### Load Word2Vec Model"
   ]
  },
  {
   "cell_type": "markdown",
   "metadata": {},
   "source": [
    "\n",
    "**KeyedVectors** - This object essentially contains the mapping between words and embeddings. After training, it can be used directly to query those embeddings in various ways"
   ]
  },
  {
   "cell_type": "code",
   "execution_count": 5,
   "metadata": {},
   "outputs": [
    {
     "name": "stdout",
     "output_type": "stream",
     "text": [
      "Note: you may need to restart the kernel to use updated packages.Collecting gensim\n",
      "\n",
      "  Using cached gensim-4.1.2.tar.gz (23.2 MB)\n",
      "Requirement already satisfied: numpy>=1.17.0 in c:\\python_mehak\\lib\\site-packages (from gensim) (1.18.5)\n",
      "Requirement already satisfied: scipy>=0.18.1 in c:\\python_mehak\\lib\\site-packages (from gensim) (1.5.0)\n",
      "Requirement already satisfied: smart_open>=1.8.1 in c:\\python_mehak\\lib\\site-packages (from gensim) (5.2.1)\n",
      "Building wheels for collected packages: gensim\n",
      "  Building wheel for gensim (setup.py): started\n",
      "  Building wheel for gensim (setup.py): still running...\n",
      "  Building wheel for gensim (setup.py): still running...\n",
      "  Building wheel for gensim (setup.py): finished with status 'error'\n",
      "  Running setup.py clean for gensim\n",
      "Failed to build gensim\n",
      "Installing collected packages: gensim\n",
      "    Running setup.py install for gensim: started\n",
      "    Running setup.py install for gensim: finished with status 'error'\n"
     ]
    },
    {
     "name": "stderr",
     "output_type": "stream",
     "text": [
      "  ERROR: Command errored out with exit status 1:\n",
      "   command: 'C:\\Python_mehak\\python.exe' -u -c 'import sys, setuptools, tokenize; sys.argv[0] = '\"'\"'C:\\\\Users\\\\Manan garg\\\\AppData\\\\Local\\\\Temp\\\\pip-install-divt05vl\\\\gensim\\\\setup.py'\"'\"'; __file__='\"'\"'C:\\\\Users\\\\Manan garg\\\\AppData\\\\Local\\\\Temp\\\\pip-install-divt05vl\\\\gensim\\\\setup.py'\"'\"';f=getattr(tokenize, '\"'\"'open'\"'\"', open)(__file__);code=f.read().replace('\"'\"'\\r\\n'\"'\"', '\"'\"'\\n'\"'\"');f.close();exec(compile(code, __file__, '\"'\"'exec'\"'\"'))' bdist_wheel -d 'C:\\Users\\Manan garg\\AppData\\Local\\Temp\\pip-wheel-fmdgft8u'\n",
      "       cwd: C:\\Users\\Manan garg\\AppData\\Local\\Temp\\pip-install-divt05vl\\gensim\\\n",
      "  Complete output (395 lines):\n",
      "  running bdist_wheel\n",
      "  running build\n",
      "  running build_py\n",
      "  creating build\n",
      "  creating build\\lib.win32-3.8\n",
      "  creating build\\lib.win32-3.8\\gensim\n",
      "  copying gensim\\downloader.py -> build\\lib.win32-3.8\\gensim\n",
      "  copying gensim\\interfaces.py -> build\\lib.win32-3.8\\gensim\n",
      "  copying gensim\\matutils.py -> build\\lib.win32-3.8\\gensim\n",
      "  copying gensim\\nosy.py -> build\\lib.win32-3.8\\gensim\n",
      "  copying gensim\\utils.py -> build\\lib.win32-3.8\\gensim\n",
      "  copying gensim\\__init__.py -> build\\lib.win32-3.8\\gensim\n",
      "  creating build\\lib.win32-3.8\\gensim\\corpora\n",
      "  copying gensim\\corpora\\bleicorpus.py -> build\\lib.win32-3.8\\gensim\\corpora\n",
      "  copying gensim\\corpora\\csvcorpus.py -> build\\lib.win32-3.8\\gensim\\corpora\n",
      "  copying gensim\\corpora\\dictionary.py -> build\\lib.win32-3.8\\gensim\\corpora\n",
      "  copying gensim\\corpora\\hashdictionary.py -> build\\lib.win32-3.8\\gensim\\corpora\n",
      "  copying gensim\\corpora\\indexedcorpus.py -> build\\lib.win32-3.8\\gensim\\corpora\n",
      "  copying gensim\\corpora\\lowcorpus.py -> build\\lib.win32-3.8\\gensim\\corpora\n",
      "  copying gensim\\corpora\\malletcorpus.py -> build\\lib.win32-3.8\\gensim\\corpora\n",
      "  copying gensim\\corpora\\mmcorpus.py -> build\\lib.win32-3.8\\gensim\\corpora\n",
      "  copying gensim\\corpora\\opinosiscorpus.py -> build\\lib.win32-3.8\\gensim\\corpora\n",
      "  copying gensim\\corpora\\sharded_corpus.py -> build\\lib.win32-3.8\\gensim\\corpora\n",
      "  copying gensim\\corpora\\svmlightcorpus.py -> build\\lib.win32-3.8\\gensim\\corpora\n",
      "  copying gensim\\corpora\\textcorpus.py -> build\\lib.win32-3.8\\gensim\\corpora\n",
      "  copying gensim\\corpora\\ucicorpus.py -> build\\lib.win32-3.8\\gensim\\corpora\n",
      "  copying gensim\\corpora\\wikicorpus.py -> build\\lib.win32-3.8\\gensim\\corpora\n",
      "  copying gensim\\corpora\\__init__.py -> build\\lib.win32-3.8\\gensim\\corpora\n",
      "  creating build\\lib.win32-3.8\\gensim\\models\n",
      "  copying gensim\\models\\atmodel.py -> build\\lib.win32-3.8\\gensim\\models\n",
      "  copying gensim\\models\\basemodel.py -> build\\lib.win32-3.8\\gensim\\models\n",
      "  copying gensim\\models\\callbacks.py -> build\\lib.win32-3.8\\gensim\\models\n",
      "  copying gensim\\models\\coherencemodel.py -> build\\lib.win32-3.8\\gensim\\models\n",
      "  copying gensim\\models\\doc2vec.py -> build\\lib.win32-3.8\\gensim\\models\n",
      "  copying gensim\\models\\ensemblelda.py -> build\\lib.win32-3.8\\gensim\\models\n",
      "  copying gensim\\models\\fasttext.py -> build\\lib.win32-3.8\\gensim\\models\n",
      "  copying gensim\\models\\hdpmodel.py -> build\\lib.win32-3.8\\gensim\\models\n",
      "  copying gensim\\models\\keyedvectors.py -> build\\lib.win32-3.8\\gensim\\models\n",
      "  copying gensim\\models\\ldamodel.py -> build\\lib.win32-3.8\\gensim\\models\n",
      "  copying gensim\\models\\ldamulticore.py -> build\\lib.win32-3.8\\gensim\\models\n",
      "  copying gensim\\models\\ldaseqmodel.py -> build\\lib.win32-3.8\\gensim\\models\n",
      "  copying gensim\\models\\lda_dispatcher.py -> build\\lib.win32-3.8\\gensim\\models\n",
      "  copying gensim\\models\\lda_worker.py -> build\\lib.win32-3.8\\gensim\\models\n",
      "  copying gensim\\models\\logentropy_model.py -> build\\lib.win32-3.8\\gensim\\models\n",
      "  copying gensim\\models\\lsimodel.py -> build\\lib.win32-3.8\\gensim\\models\n",
      "  copying gensim\\models\\lsi_dispatcher.py -> build\\lib.win32-3.8\\gensim\\models\n",
      "  copying gensim\\models\\lsi_worker.py -> build\\lib.win32-3.8\\gensim\\models\n",
      "  copying gensim\\models\\nmf.py -> build\\lib.win32-3.8\\gensim\\models\n",
      "  copying gensim\\models\\normmodel.py -> build\\lib.win32-3.8\\gensim\\models\n",
      "  copying gensim\\models\\phrases.py -> build\\lib.win32-3.8\\gensim\\models\n",
      "  copying gensim\\models\\poincare.py -> build\\lib.win32-3.8\\gensim\\models\n",
      "  copying gensim\\models\\rpmodel.py -> build\\lib.win32-3.8\\gensim\\models\n",
      "  copying gensim\\models\\tfidfmodel.py -> build\\lib.win32-3.8\\gensim\\models\n",
      "  copying gensim\\models\\translation_matrix.py -> build\\lib.win32-3.8\\gensim\\models\n",
      "  copying gensim\\models\\word2vec.py -> build\\lib.win32-3.8\\gensim\\models\n",
      "  copying gensim\\models\\_fasttext_bin.py -> build\\lib.win32-3.8\\gensim\\models\n",
      "  copying gensim\\models\\__init__.py -> build\\lib.win32-3.8\\gensim\\models\n",
      "  creating build\\lib.win32-3.8\\gensim\\parsing\n",
      "  copying gensim\\parsing\\porter.py -> build\\lib.win32-3.8\\gensim\\parsing\n",
      "  copying gensim\\parsing\\preprocessing.py -> build\\lib.win32-3.8\\gensim\\parsing\n",
      "  copying gensim\\parsing\\__init__.py -> build\\lib.win32-3.8\\gensim\\parsing\n",
      "  creating build\\lib.win32-3.8\\gensim\\scripts\n",
      "  copying gensim\\scripts\\benchmark.py -> build\\lib.win32-3.8\\gensim\\scripts\n",
      "  copying gensim\\scripts\\glove2word2vec.py -> build\\lib.win32-3.8\\gensim\\scripts\n",
      "  copying gensim\\scripts\\make_wiki.py -> build\\lib.win32-3.8\\gensim\\scripts\n",
      "  copying gensim\\scripts\\make_wikicorpus.py -> build\\lib.win32-3.8\\gensim\\scripts\n",
      "  copying gensim\\scripts\\make_wiki_online.py -> build\\lib.win32-3.8\\gensim\\scripts\n",
      "  copying gensim\\scripts\\make_wiki_online_nodebug.py -> build\\lib.win32-3.8\\gensim\\scripts\n",
      "  copying gensim\\scripts\\package_info.py -> build\\lib.win32-3.8\\gensim\\scripts\n",
      "  copying gensim\\scripts\\segment_wiki.py -> build\\lib.win32-3.8\\gensim\\scripts\n",
      "  copying gensim\\scripts\\word2vec2tensor.py -> build\\lib.win32-3.8\\gensim\\scripts\n",
      "  copying gensim\\scripts\\word2vec_standalone.py -> build\\lib.win32-3.8\\gensim\\scripts\n",
      "  copying gensim\\scripts\\__init__.py -> build\\lib.win32-3.8\\gensim\\scripts\n",
      "  creating build\\lib.win32-3.8\\gensim\\similarities\n",
      "  copying gensim\\similarities\\annoy.py -> build\\lib.win32-3.8\\gensim\\similarities\n",
      "  copying gensim\\similarities\\docsim.py -> build\\lib.win32-3.8\\gensim\\similarities\n",
      "  copying gensim\\similarities\\levenshtein.py -> build\\lib.win32-3.8\\gensim\\similarities\n",
      "  copying gensim\\similarities\\nmslib.py -> build\\lib.win32-3.8\\gensim\\similarities\n",
      "  copying gensim\\similarities\\termsim.py -> build\\lib.win32-3.8\\gensim\\similarities\n",
      "  copying gensim\\similarities\\__init__.py -> build\\lib.win32-3.8\\gensim\\similarities\n",
      "  creating build\\lib.win32-3.8\\gensim\\test\n",
      "  copying gensim\\test\\basetmtests.py -> build\\lib.win32-3.8\\gensim\\test\n",
      "  copying gensim\\test\\simspeed.py -> build\\lib.win32-3.8\\gensim\\test\n",
      "  copying gensim\\test\\simspeed2.py -> build\\lib.win32-3.8\\gensim\\test\n",
      "  copying gensim\\test\\svd_error.py -> build\\lib.win32-3.8\\gensim\\test\n",
      "  copying gensim\\test\\test_aggregation.py -> build\\lib.win32-3.8\\gensim\\test\n",
      "  copying gensim\\test\\test_api.py -> build\\lib.win32-3.8\\gensim\\test\n",
      "  copying gensim\\test\\test_atmodel.py -> build\\lib.win32-3.8\\gensim\\test\n",
      "  copying gensim\\test\\test_big.py -> build\\lib.win32-3.8\\gensim\\test\n",
      "  copying gensim\\test\\test_coherencemodel.py -> build\\lib.win32-3.8\\gensim\\test\n",
      "  copying gensim\\test\\test_corpora.py -> build\\lib.win32-3.8\\gensim\\test\n",
      "  copying gensim\\test\\test_corpora_dictionary.py -> build\\lib.win32-3.8\\gensim\\test\n",
      "  copying gensim\\test\\test_corpora_hashdictionary.py -> build\\lib.win32-3.8\\gensim\\test\n",
      "  copying gensim\\test\\test_datatype.py -> build\\lib.win32-3.8\\gensim\\test\n",
      "  copying gensim\\test\\test_direct_confirmation.py -> build\\lib.win32-3.8\\gensim\\test\n",
      "  copying gensim\\test\\test_doc2vec.py -> build\\lib.win32-3.8\\gensim\\test\n",
      "  copying gensim\\test\\test_dtm.py -> build\\lib.win32-3.8\\gensim\\test\n",
      "  copying gensim\\test\\test_ensemblelda.py -> build\\lib.win32-3.8\\gensim\\test\n",
      "  copying gensim\\test\\test_fasttext.py -> build\\lib.win32-3.8\\gensim\\test\n",
      "  copying gensim\\test\\test_glove2word2vec.py -> build\\lib.win32-3.8\\gensim\\test\n",
      "  copying gensim\\test\\test_hdpmodel.py -> build\\lib.win32-3.8\\gensim\\test\n",
      "  copying gensim\\test\\test_indirect_confirmation.py -> build\\lib.win32-3.8\\gensim\\test\n",
      "  copying gensim\\test\\test_keyedvectors.py -> build\\lib.win32-3.8\\gensim\\test\n",
      "  copying gensim\\test\\test_ldamodel.py -> build\\lib.win32-3.8\\gensim\\test\n",
      "  copying gensim\\test\\test_ldaseqmodel.py -> build\\lib.win32-3.8\\gensim\\test\n",
      "  copying gensim\\test\\test_lda_callback.py -> build\\lib.win32-3.8\\gensim\\test\n",
      "  copying gensim\\test\\test_lee.py -> build\\lib.win32-3.8\\gensim\\test\n",
      "  copying gensim\\test\\test_logentropy_model.py -> build\\lib.win32-3.8\\gensim\\test\n",
      "  copying gensim\\test\\test_lsimodel.py -> build\\lib.win32-3.8\\gensim\\test\n",
      "  copying gensim\\test\\test_matutils.py -> build\\lib.win32-3.8\\gensim\\test\n",
      "  copying gensim\\test\\test_miislita.py -> build\\lib.win32-3.8\\gensim\\test\n",
      "  copying gensim\\test\\test_nmf.py -> build\\lib.win32-3.8\\gensim\\test\n",
      "  copying gensim\\test\\test_normmodel.py -> build\\lib.win32-3.8\\gensim\\test\n",
      "  copying gensim\\test\\test_parsing.py -> build\\lib.win32-3.8\\gensim\\test\n",
      "  copying gensim\\test\\test_phrases.py -> build\\lib.win32-3.8\\gensim\\test\n",
      "  copying gensim\\test\\test_poincare.py -> build\\lib.win32-3.8\\gensim\\test\n",
      "  copying gensim\\test\\test_probability_estimation.py -> build\\lib.win32-3.8\\gensim\\test\n",
      "  copying gensim\\test\\test_rpmodel.py -> build\\lib.win32-3.8\\gensim\\test\n",
      "  copying gensim\\test\\test_scripts.py -> build\\lib.win32-3.8\\gensim\\test\n",
      "  copying gensim\\test\\test_segmentation.py -> build\\lib.win32-3.8\\gensim\\test\n",
      "  copying gensim\\test\\test_sharded_corpus.py -> build\\lib.win32-3.8\\gensim\\test\n",
      "  copying gensim\\test\\test_similarities.py -> build\\lib.win32-3.8\\gensim\\test\n",
      "  copying gensim\\test\\test_similarity_metrics.py -> build\\lib.win32-3.8\\gensim\\test\n",
      "  copying gensim\\test\\test_text_analysis.py -> build\\lib.win32-3.8\\gensim\\test\n",
      "  copying gensim\\test\\test_tfidfmodel.py -> build\\lib.win32-3.8\\gensim\\test\n",
      "  copying gensim\\test\\test_tmdiff.py -> build\\lib.win32-3.8\\gensim\\test\n",
      "  copying gensim\\test\\test_translation_matrix.py -> build\\lib.win32-3.8\\gensim\\test\n",
      "  copying gensim\\test\\test_utils.py -> build\\lib.win32-3.8\\gensim\\test\n",
      "  copying gensim\\test\\test_word2vec.py -> build\\lib.win32-3.8\\gensim\\test\n",
      "  copying gensim\\test\\utils.py -> build\\lib.win32-3.8\\gensim\\test\n",
      "  copying gensim\\test\\__init__.py -> build\\lib.win32-3.8\\gensim\\test\n",
      "  creating build\\lib.win32-3.8\\gensim\\topic_coherence\n",
      "  copying gensim\\topic_coherence\\aggregation.py -> build\\lib.win32-3.8\\gensim\\topic_coherence\n",
      "  copying gensim\\topic_coherence\\direct_confirmation_measure.py -> build\\lib.win32-3.8\\gensim\\topic_coherence\n",
      "  copying gensim\\topic_coherence\\indirect_confirmation_measure.py -> build\\lib.win32-3.8\\gensim\\topic_coherence\n",
      "  copying gensim\\topic_coherence\\probability_estimation.py -> build\\lib.win32-3.8\\gensim\\topic_coherence\n",
      "  copying gensim\\topic_coherence\\segmentation.py -> build\\lib.win32-3.8\\gensim\\topic_coherence\n",
      "  copying gensim\\topic_coherence\\text_analysis.py -> build\\lib.win32-3.8\\gensim\\topic_coherence\n",
      "  copying gensim\\topic_coherence\\__init__.py -> build\\lib.win32-3.8\\gensim\\topic_coherence\n",
      "  running egg_info\n",
      "  writing gensim.egg-info\\PKG-INFO\n",
      "  writing dependency_links to gensim.egg-info\\dependency_links.txt\n",
      "  writing requirements to gensim.egg-info\\requires.txt\n",
      "  writing top-level names to gensim.egg-info\\top_level.txt\n",
      "  reading manifest file 'gensim.egg-info\\SOURCES.txt'\n",
      "  reading manifest template 'MANIFEST.in'\n",
      "  warning: no files found matching 'COPYING.LESSER'\n",
      "  warning: no files found matching 'ez_setup.py'\n",
      "  warning: no files found matching 'gensim\\models\\doc2vec_inner.c'\n",
      "  adding license file 'COPYING'\n",
      "  writing manifest file 'gensim.egg-info\\SOURCES.txt'\n",
      "  copying gensim\\_matutils.c -> build\\lib.win32-3.8\\gensim\n",
      "  copying gensim\\_matutils.pyx -> build\\lib.win32-3.8\\gensim\n",
      "  copying gensim\\corpora\\_mmreader.c -> build\\lib.win32-3.8\\gensim\\corpora\n",
      "  copying gensim\\models\\doc2vec_corpusfile.cpp -> build\\lib.win32-3.8\\gensim\\models\n",
      "  copying gensim\\models\\doc2vec_inner.cpp -> build\\lib.win32-3.8\\gensim\\models\n",
      "  copying gensim\\models\\fasttext_corpusfile.cpp -> build\\lib.win32-3.8\\gensim\\models\n",
      "  copying gensim\\models\\fasttext_inner.c -> build\\lib.win32-3.8\\gensim\\models\n",
      "  copying gensim\\models\\nmf_pgd.c -> build\\lib.win32-3.8\\gensim\\models\n",
      "  copying gensim\\models\\word2vec_corpusfile.cpp -> build\\lib.win32-3.8\\gensim\\models\n",
      "  copying gensim\\models\\word2vec_inner.c -> build\\lib.win32-3.8\\gensim\\models\n",
      "  copying gensim\\similarities\\fastss.c -> build\\lib.win32-3.8\\gensim\\similarities\n",
      "  copying gensim\\corpora\\_mmreader.pyx -> build\\lib.win32-3.8\\gensim\\corpora\n",
      "  copying gensim\\models\\doc2vec_corpusfile.pyx -> build\\lib.win32-3.8\\gensim\\models\n",
      "  copying gensim\\models\\doc2vec_inner.pxd -> build\\lib.win32-3.8\\gensim\\models\n",
      "  copying gensim\\models\\doc2vec_inner.pyx -> build\\lib.win32-3.8\\gensim\\models\n",
      "  copying gensim\\models\\fast_line_sentence.h -> build\\lib.win32-3.8\\gensim\\models\n",
      "  copying gensim\\models\\fasttext_corpusfile.pyx -> build\\lib.win32-3.8\\gensim\\models\n",
      "  copying gensim\\models\\fasttext_inner.pxd -> build\\lib.win32-3.8\\gensim\\models\n",
      "  copying gensim\\models\\fasttext_inner.pyx -> build\\lib.win32-3.8\\gensim\\models\n"
     ]
    },
    {
     "name": "stderr",
     "output_type": "stream",
     "text": [
      "  copying gensim\\models\\nmf_pgd.pyx -> build\\lib.win32-3.8\\gensim\\models\n",
      "  copying gensim\\models\\stdint_wrapper.h -> build\\lib.win32-3.8\\gensim\\models\n",
      "  copying gensim\\models\\voidptr.h -> build\\lib.win32-3.8\\gensim\\models\n",
      "  copying gensim\\models\\word2vec_corpusfile.pxd -> build\\lib.win32-3.8\\gensim\\models\n",
      "  copying gensim\\models\\word2vec_corpusfile.pyx -> build\\lib.win32-3.8\\gensim\\models\n",
      "  copying gensim\\models\\word2vec_inner.pxd -> build\\lib.win32-3.8\\gensim\\models\n",
      "  copying gensim\\models\\word2vec_inner.pyx -> build\\lib.win32-3.8\\gensim\\models\n",
      "  creating build\\lib.win32-3.8\\gensim\\test\\test_data\n",
      "  copying gensim\\test\\test_data\\EN.1-10.cbow1_wind5_hs0_neg10_size300_smpl1e-05.txt -> build\\lib.win32-3.8\\gensim\\test\\test_data\n",
      "  copying gensim\\test\\test_data\\IT.1-10.cbow1_wind5_hs0_neg10_size300_smpl1e-05.txt -> build\\lib.win32-3.8\\gensim\\test\\test_data\n",
      "  copying gensim\\test\\test_data\\OPUS_en_it_europarl_train_one2ten.txt -> build\\lib.win32-3.8\\gensim\\test\\test_data\n",
      "  copying gensim\\test\\test_data\\alldata-id-10.txt -> build\\lib.win32-3.8\\gensim\\test\\test_data\n",
      "  copying gensim\\test\\test_data\\atmodel_3_0_1_model -> build\\lib.win32-3.8\\gensim\\test\\test_data\n",
      "  copying gensim\\test\\test_data\\atmodel_3_0_1_model.expElogbeta.npy -> build\\lib.win32-3.8\\gensim\\test\\test_data\n",
      "  copying gensim\\test\\test_data\\atmodel_3_0_1_model.id2word -> build\\lib.win32-3.8\\gensim\\test\\test_data\n",
      "  copying gensim\\test\\test_data\\atmodel_3_0_1_model.state -> build\\lib.win32-3.8\\gensim\\test\\test_data\n",
      "  copying gensim\\test\\test_data\\bgwiki-latest-pages-articles-shortened.xml.bz2 -> build\\lib.win32-3.8\\gensim\\test\\test_data\n",
      "  copying gensim\\test\\test_data\\compatible-hash-true.model -> build\\lib.win32-3.8\\gensim\\test\\test_data\n",
      "  copying gensim\\test\\test_data\\cp852_fasttext.bin -> build\\lib.win32-3.8\\gensim\\test\\test_data\n",
      "  copying gensim\\test\\test_data\\crime-and-punishment.bin -> build\\lib.win32-3.8\\gensim\\test\\test_data\n",
      "  copying gensim\\test\\test_data\\crime-and-punishment.txt -> build\\lib.win32-3.8\\gensim\\test\\test_data\n",
      "  copying gensim\\test\\test_data\\crime-and-punishment.vec -> build\\lib.win32-3.8\\gensim\\test\\test_data\n",
      "  copying gensim\\test\\test_data\\d2v-lee-v0.13.0 -> build\\lib.win32-3.8\\gensim\\test\\test_data\n",
      "  copying gensim\\test\\test_data\\doc2vec_old -> build\\lib.win32-3.8\\gensim\\test\\test_data\n",
      "  copying gensim\\test\\test_data\\doc2vec_old_sep -> build\\lib.win32-3.8\\gensim\\test\\test_data\n",
      "  copying gensim\\test\\test_data\\doc2vec_old_sep.syn0_lockf.npy -> build\\lib.win32-3.8\\gensim\\test\\test_data\n",
      "  copying gensim\\test\\test_data\\doc2vec_old_sep.syn1neg.npy -> build\\lib.win32-3.8\\gensim\\test\\test_data\n",
      "  copying gensim\\test\\test_data\\dtm_test.dict -> build\\lib.win32-3.8\\gensim\\test\\test_data\n",
      "  copying gensim\\test\\test_data\\dtm_test.mm -> build\\lib.win32-3.8\\gensim\\test\\test_data\n",
      "  copying gensim\\test\\test_data\\ensemblelda -> build\\lib.win32-3.8\\gensim\\test\\test_data\n",
      "  copying gensim\\test\\test_data\\enwiki-latest-pages-articles1.xml-p000000010p000030302-shortened.bz2 -> build\\lib.win32-3.8\\gensim\\test\\test_data\n",
      "  copying gensim\\test\\test_data\\enwiki-table-markup.xml.bz2 -> build\\lib.win32-3.8\\gensim\\test\\test_data\n",
      "  copying gensim\\test\\test_data\\euclidean_vectors.bin -> build\\lib.win32-3.8\\gensim\\test\\test_data\n",
      "  copying gensim\\test\\test_data\\fasttext_old -> build\\lib.win32-3.8\\gensim\\test\\test_data\n",
      "  copying gensim\\test\\test_data\\fasttext_old_sep -> build\\lib.win32-3.8\\gensim\\test\\test_data\n",
      "  copying gensim\\test\\test_data\\fasttext_old_sep.syn0_lockf.npy -> build\\lib.win32-3.8\\gensim\\test\\test_data\n",
      "  copying gensim\\test\\test_data\\fasttext_old_sep.syn1neg.npy -> build\\lib.win32-3.8\\gensim\\test\\test_data\n",
      "  copying gensim\\test\\test_data\\fb-ngrams.txt -> build\\lib.win32-3.8\\gensim\\test\\test_data\n",
      "  copying gensim\\test\\test_data\\ft_kv_3.6.0.model.gz -> build\\lib.win32-3.8\\gensim\\test\\test_data\n",
      "  copying gensim\\test\\test_data\\ft_model_2.3.0 -> build\\lib.win32-3.8\\gensim\\test\\test_data\n",
      "  copying gensim\\test\\test_data\\head500.noblanks.cor -> build\\lib.win32-3.8\\gensim\\test\\test_data\n",
      "  copying gensim\\test\\test_data\\head500.noblanks.cor.bz2 -> build\\lib.win32-3.8\\gensim\\test\\test_data\n",
      "  copying gensim\\test\\test_data\\head500.noblanks.cor_tfidf.model -> build\\lib.win32-3.8\\gensim\\test\\test_data\n",
      "  copying gensim\\test\\test_data\\head500.noblanks.cor_wordids.txt -> build\\lib.win32-3.8\\gensim\\test\\test_data\n",
      "  copying gensim\\test\\test_data\\high_precision.kv.bin -> build\\lib.win32-3.8\\gensim\\test\\test_data\n",
      "  copying gensim\\test\\test_data\\high_precision.kv.txt -> build\\lib.win32-3.8\\gensim\\test\\test_data\n",
      "  copying gensim\\test\\test_data\\large_tag_doc_10_iter50 -> build\\lib.win32-3.8\\gensim\\test\\test_data\n",
      "  copying gensim\\test\\test_data\\lda_3_0_1_model -> build\\lib.win32-3.8\\gensim\\test\\test_data\n",
      "  copying gensim\\test\\test_data\\lda_3_0_1_model.expElogbeta.npy -> build\\lib.win32-3.8\\gensim\\test\\test_data\n",
      "  copying gensim\\test\\test_data\\lda_3_0_1_model.id2word -> build\\lib.win32-3.8\\gensim\\test\\test_data\n",
      "  copying gensim\\test\\test_data\\lda_3_0_1_model.state -> build\\lib.win32-3.8\\gensim\\test\\test_data\n",
      "  copying gensim\\test\\test_data\\ldamodel_python_2_7 -> build\\lib.win32-3.8\\gensim\\test\\test_data\n",
      "  copying gensim\\test\\test_data\\ldamodel_python_2_7.expElogbeta.npy -> build\\lib.win32-3.8\\gensim\\test\\test_data\n",
      "  copying gensim\\test\\test_data\\ldamodel_python_2_7.id2word -> build\\lib.win32-3.8\\gensim\\test\\test_data\n",
      "  copying gensim\\test\\test_data\\ldamodel_python_2_7.state -> build\\lib.win32-3.8\\gensim\\test\\test_data\n",
      "  copying gensim\\test\\test_data\\ldamodel_python_3_5 -> build\\lib.win32-3.8\\gensim\\test\\test_data\n",
      "  copying gensim\\test\\test_data\\ldamodel_python_3_5.expElogbeta.npy -> build\\lib.win32-3.8\\gensim\\test\\test_data\n",
      "  copying gensim\\test\\test_data\\ldamodel_python_3_5.id2word -> build\\lib.win32-3.8\\gensim\\test\\test_data\n",
      "  copying gensim\\test\\test_data\\ldamodel_python_3_5.state -> build\\lib.win32-3.8\\gensim\\test\\test_data\n",
      "  copying gensim\\test\\test_data\\ldavowpalwabbit.dict.txt -> build\\lib.win32-3.8\\gensim\\test\\test_data\n",
      "  copying gensim\\test\\test_data\\ldavowpalwabbit.txt -> build\\lib.win32-3.8\\gensim\\test\\test_data\n",
      "  copying gensim\\test\\test_data\\lee.cor -> build\\lib.win32-3.8\\gensim\\test\\test_data\n",
      "  copying gensim\\test\\test_data\\lee_background.cor -> build\\lib.win32-3.8\\gensim\\test\\test_data\n",
      "  copying gensim\\test\\test_data\\lee_fasttext -> build\\lib.win32-3.8\\gensim\\test\\test_data\n",
      "  copying gensim\\test\\test_data\\lee_fasttext.bin -> build\\lib.win32-3.8\\gensim\\test\\test_data\n",
      "  copying gensim\\test\\test_data\\lee_fasttext.vec -> build\\lib.win32-3.8\\gensim\\test\\test_data\n",
      "  copying gensim\\test\\test_data\\lee_fasttext_new.bin -> build\\lib.win32-3.8\\gensim\\test\\test_data\n",
      "  copying gensim\\test\\test_data\\miIslita.cor -> build\\lib.win32-3.8\\gensim\\test\\test_data\n",
      "  copying gensim\\test\\test_data\\mini_newsgroup -> build\\lib.win32-3.8\\gensim\\test\\test_data\n",
      "  copying gensim\\test\\test_data\\nmf_model -> build\\lib.win32-3.8\\gensim\\test\\test_data\n",
      "  copying gensim\\test\\test_data\\non_ascii_fasttext.bin -> build\\lib.win32-3.8\\gensim\\test\\test_data\n",
      "  copying gensim\\test\\test_data\\old_keyedvectors_320.dat -> build\\lib.win32-3.8\\gensim\\test\\test_data\n",
      "  copying gensim\\test\\test_data\\pang_lee_polarity.cor -> build\\lib.win32-3.8\\gensim\\test\\test_data\n",
      "  copying gensim\\test\\test_data\\pang_lee_polarity_fasttext.bin -> build\\lib.win32-3.8\\gensim\\test\\test_data\n",
      "  copying gensim\\test\\test_data\\pang_lee_polarity_fasttext.vec -> build\\lib.win32-3.8\\gensim\\test\\test_data\n",
      "  copying gensim\\test\\test_data\\para2para_text1.txt -> build\\lib.win32-3.8\\gensim\\test\\test_data\n",
      "  copying gensim\\test\\test_data\\para2para_text2.txt -> build\\lib.win32-3.8\\gensim\\test\\test_data\n",
      "  copying gensim\\test\\test_data\\phraser-3.6.0.model -> build\\lib.win32-3.8\\gensim\\test\\test_data\n",
      "  copying gensim\\test\\test_data\\phraser-no-common-terms.pkl -> build\\lib.win32-3.8\\gensim\\test\\test_data\n",
      "  copying gensim\\test\\test_data\\phraser-no-scoring.pkl -> build\\lib.win32-3.8\\gensim\\test\\test_data\n",
      "  copying gensim\\test\\test_data\\phraser-scoring-str.pkl -> build\\lib.win32-3.8\\gensim\\test\\test_data\n",
      "  copying gensim\\test\\test_data\\phrases-3.6.0.model -> build\\lib.win32-3.8\\gensim\\test\\test_data\n",
      "  copying gensim\\test\\test_data\\phrases-no-common-terms.pkl -> build\\lib.win32-3.8\\gensim\\test\\test_data\n",
      "  copying gensim\\test\\test_data\\phrases-no-scoring.pkl -> build\\lib.win32-3.8\\gensim\\test\\test_data\n",
      "  copying gensim\\test\\test_data\\phrases-scoring-str.pkl -> build\\lib.win32-3.8\\gensim\\test\\test_data\n",
      "  copying gensim\\test\\test_data\\poincare_cp852.tsv -> build\\lib.win32-3.8\\gensim\\test\\test_data\n",
      "  copying gensim\\test\\test_data\\poincare_hypernyms.tsv -> build\\lib.win32-3.8\\gensim\\test\\test_data\n",
      "  copying gensim\\test\\test_data\\poincare_hypernyms_large.tsv -> build\\lib.win32-3.8\\gensim\\test\\test_data\n",
      "  copying gensim\\test\\test_data\\poincare_test_3.4.0 -> build\\lib.win32-3.8\\gensim\\test\\test_data\n",
      "  copying gensim\\test\\test_data\\poincare_utf8.tsv -> build\\lib.win32-3.8\\gensim\\test\\test_data\n",
      "  copying gensim\\test\\test_data\\poincare_vectors.bin -> build\\lib.win32-3.8\\gensim\\test\\test_data\n",
      "  copying gensim\\test\\test_data\\pre_0_13_2_model -> build\\lib.win32-3.8\\gensim\\test\\test_data\n",
      "  copying gensim\\test\\test_data\\pre_0_13_2_model.state -> build\\lib.win32-3.8\\gensim\\test\\test_data\n",
      "  copying gensim\\test\\test_data\\pretrained.vec -> build\\lib.win32-3.8\\gensim\\test\\test_data\n",
      "  copying gensim\\test\\test_data\\questions-words.txt -> build\\lib.win32-3.8\\gensim\\test\\test_data\n",
      "  copying gensim\\test\\test_data\\reproduce.dat -> build\\lib.win32-3.8\\gensim\\test\\test_data\n",
      "  copying gensim\\test\\test_data\\reproduce.dat.gz -> build\\lib.win32-3.8\\gensim\\test\\test_data\n",
      "  copying gensim\\test\\test_data\\similarities0-1.txt -> build\\lib.win32-3.8\\gensim\\test\\test_data\n",
      "  copying gensim\\test\\test_data\\simlex999.txt -> build\\lib.win32-3.8\\gensim\\test\\test_data\n",
      "  copying gensim\\test\\test_data\\small_tag_doc_5_iter50 -> build\\lib.win32-3.8\\gensim\\test\\test_data\n",
      "  copying gensim\\test\\test_data\\test_corpus_ok.mm -> build\\lib.win32-3.8\\gensim\\test\\test_data\n",
      "  copying gensim\\test\\test_data\\test_corpus_small.mm -> build\\lib.win32-3.8\\gensim\\test\\test_data\n",
      "  copying gensim\\test\\test_data\\test_glove.txt -> build\\lib.win32-3.8\\gensim\\test\\test_data\n",
      "  copying gensim\\test\\test_data\\test_mmcorpus_corrupt.mm -> build\\lib.win32-3.8\\gensim\\test\\test_data\n",
      "  copying gensim\\test\\test_data\\test_mmcorpus_no_index.mm -> build\\lib.win32-3.8\\gensim\\test\\test_data\n",
      "  copying gensim\\test\\test_data\\test_mmcorpus_no_index.mm.bz2 -> build\\lib.win32-3.8\\gensim\\test\\test_data\n",
      "  copying gensim\\test\\test_data\\test_mmcorpus_no_index.mm.gz -> build\\lib.win32-3.8\\gensim\\test\\test_data\n",
      "  copying gensim\\test\\test_data\\test_mmcorpus_overflow.mm -> build\\lib.win32-3.8\\gensim\\test\\test_data\n",
      "  copying gensim\\test\\test_data\\test_mmcorpus_with_index.mm -> build\\lib.win32-3.8\\gensim\\test\\test_data\n",
      "  copying gensim\\test\\test_data\\test_mmcorpus_with_index.mm.index -> build\\lib.win32-3.8\\gensim\\test\\test_data\n",
      "  copying gensim\\test\\test_data\\testcorpus.blei -> build\\lib.win32-3.8\\gensim\\test\\test_data\n",
      "  copying gensim\\test\\test_data\\testcorpus.blei.index -> build\\lib.win32-3.8\\gensim\\test\\test_data\n",
      "  copying gensim\\test\\test_data\\testcorpus.blei.vocab -> build\\lib.win32-3.8\\gensim\\test\\test_data\n",
      "  copying gensim\\test\\test_data\\testcorpus.low -> build\\lib.win32-3.8\\gensim\\test\\test_data\n",
      "  copying gensim\\test\\test_data\\testcorpus.low.index -> build\\lib.win32-3.8\\gensim\\test\\test_data\n",
      "  copying gensim\\test\\test_data\\testcorpus.mallet -> build\\lib.win32-3.8\\gensim\\test\\test_data\n",
      "  copying gensim\\test\\test_data\\testcorpus.mallet.index -> build\\lib.win32-3.8\\gensim\\test\\test_data\n",
      "  copying gensim\\test\\test_data\\testcorpus.mm -> build\\lib.win32-3.8\\gensim\\test\\test_data\n",
      "  copying gensim\\test\\test_data\\testcorpus.mm.index -> build\\lib.win32-3.8\\gensim\\test\\test_data\n",
      "  copying gensim\\test\\test_data\\testcorpus.svmlight -> build\\lib.win32-3.8\\gensim\\test\\test_data\n",
      "  copying gensim\\test\\test_data\\testcorpus.svmlight.index -> build\\lib.win32-3.8\\gensim\\test\\test_data\n",
      "  copying gensim\\test\\test_data\\testcorpus.txt -> build\\lib.win32-3.8\\gensim\\test\\test_data\n",
      "  copying gensim\\test\\test_data\\testcorpus.uci -> build\\lib.win32-3.8\\gensim\\test\\test_data\n",
      "  copying gensim\\test\\test_data\\testcorpus.uci.index -> build\\lib.win32-3.8\\gensim\\test\\test_data\n",
      "  copying gensim\\test\\test_data\\testcorpus.uci.vocab -> build\\lib.win32-3.8\\gensim\\test\\test_data\n",
      "  copying gensim\\test\\test_data\\testcorpus.xml.bz2 -> build\\lib.win32-3.8\\gensim\\test\\test_data\n",
      "  copying gensim\\test\\test_data\\testcorpus_serialization.mm.index -> build\\lib.win32-3.8\\gensim\\test\\test_data\n",
      "  copying gensim\\test\\test_data\\tfidf_model.tst -> build\\lib.win32-3.8\\gensim\\test\\test_data\n",
      "  copying gensim\\test\\test_data\\tfidf_model.tst.bz2 -> build\\lib.win32-3.8\\gensim\\test\\test_data\n",
      "  copying gensim\\test\\test_data\\tfidf_model_3_2.tst -> build\\lib.win32-3.8\\gensim\\test\\test_data\n",
      "  copying gensim\\test\\test_data\\toy-data.txt -> build\\lib.win32-3.8\\gensim\\test\\test_data\n",
      "  copying gensim\\test\\test_data\\toy-model-pretrained.bin -> build\\lib.win32-3.8\\gensim\\test\\test_data\n",
      "  copying gensim\\test\\test_data\\toy-model.bin -> build\\lib.win32-3.8\\gensim\\test\\test_data\n",
      "  copying gensim\\test\\test_data\\toy-model.vec -> build\\lib.win32-3.8\\gensim\\test\\test_data\n",
      "  copying gensim\\test\\test_data\\varembed_lee_subcorpus.cor -> build\\lib.win32-3.8\\gensim\\test\\test_data\n",
      "  copying gensim\\test\\test_data\\varembed_morfessor.bin -> build\\lib.win32-3.8\\gensim\\test\\test_data\n",
      "  copying gensim\\test\\test_data\\varembed_vectors.pkl -> build\\lib.win32-3.8\\gensim\\test\\test_data\n",
      "  copying gensim\\test\\test_data\\w2v-lee-v0.12.0 -> build\\lib.win32-3.8\\gensim\\test\\test_data\n",
      "  copying gensim\\test\\test_data\\w2v_keyedvectors_load_test.modeldata -> build\\lib.win32-3.8\\gensim\\test\\test_data\n",
      "  copying gensim\\test\\test_data\\w2v_keyedvectors_load_test.vocab -> build\\lib.win32-3.8\\gensim\\test\\test_data\n",
      "  copying gensim\\test\\test_data\\word2vec_3.3 -> build\\lib.win32-3.8\\gensim\\test\\test_data\n",
      "  copying gensim\\test\\test_data\\word2vec_old -> build\\lib.win32-3.8\\gensim\\test\\test_data\n",
      "  copying gensim\\test\\test_data\\word2vec_old_sep -> build\\lib.win32-3.8\\gensim\\test\\test_data\n",
      "  copying gensim\\test\\test_data\\word2vec_old_sep.syn0_lockf.npy -> build\\lib.win32-3.8\\gensim\\test\\test_data\n",
      "  copying gensim\\test\\test_data\\word2vec_old_sep.syn1neg.npy -> build\\lib.win32-3.8\\gensim\\test\\test_data\n",
      "  copying gensim\\test\\test_data\\word2vec_pre_kv_c -> build\\lib.win32-3.8\\gensim\\test\\test_data\n",
      "  copying gensim\\test\\test_data\\word2vec_pre_kv_py2 -> build\\lib.win32-3.8\\gensim\\test\\test_data\n",
      "  copying gensim\\test\\test_data\\word2vec_pre_kv_py3 -> build\\lib.win32-3.8\\gensim\\test\\test_data\n",
      "  copying gensim\\test\\test_data\\word2vec_pre_kv_py3_4 -> build\\lib.win32-3.8\\gensim\\test\\test_data\n",
      "  copying gensim\\test\\test_data\\word2vec_pre_kv_sep_py2 -> build\\lib.win32-3.8\\gensim\\test\\test_data\n",
      "  copying gensim\\test\\test_data\\word2vec_pre_kv_sep_py2.neg_labels.npy -> build\\lib.win32-3.8\\gensim\\test\\test_data\n",
      "  copying gensim\\test\\test_data\\word2vec_pre_kv_sep_py2.syn0.npy -> build\\lib.win32-3.8\\gensim\\test\\test_data\n",
      "  copying gensim\\test\\test_data\\word2vec_pre_kv_sep_py2.syn0_lockf.npy -> build\\lib.win32-3.8\\gensim\\test\\test_data\n",
      "  copying gensim\\test\\test_data\\word2vec_pre_kv_sep_py2.syn1neg.npy -> build\\lib.win32-3.8\\gensim\\test\\test_data\n",
      "  copying gensim\\test\\test_data\\word2vec_pre_kv_sep_py3 -> build\\lib.win32-3.8\\gensim\\test\\test_data\n",
      "  copying gensim\\test\\test_data\\word2vec_pre_kv_sep_py3.neg_labels.npy -> build\\lib.win32-3.8\\gensim\\test\\test_data\n",
      "  copying gensim\\test\\test_data\\word2vec_pre_kv_sep_py3.syn0.npy -> build\\lib.win32-3.8\\gensim\\test\\test_data\n",
      "  copying gensim\\test\\test_data\\word2vec_pre_kv_sep_py3.syn0_lockf.npy -> build\\lib.win32-3.8\\gensim\\test\\test_data\n",
      "  copying gensim\\test\\test_data\\word2vec_pre_kv_sep_py3.syn1neg.npy -> build\\lib.win32-3.8\\gensim\\test\\test_data\n",
      "  copying gensim\\test\\test_data\\word2vec_pre_kv_sep_py3_4 -> build\\lib.win32-3.8\\gensim\\test\\test_data\n",
      "  copying gensim\\test\\test_data\\word2vec_pre_kv_sep_py3_4.neg_labels.npy -> build\\lib.win32-3.8\\gensim\\test\\test_data\n",
      "  copying gensim\\test\\test_data\\word2vec_pre_kv_sep_py3_4.syn0.npy -> build\\lib.win32-3.8\\gensim\\test\\test_data\n",
      "  copying gensim\\test\\test_data\\word2vec_pre_kv_sep_py3_4.syn0_lockf.npy -> build\\lib.win32-3.8\\gensim\\test\\test_data\n",
      "  copying gensim\\test\\test_data\\word2vec_pre_kv_sep_py3_4.syn1neg.npy -> build\\lib.win32-3.8\\gensim\\test\\test_data\n",
      "  copying gensim\\test\\test_data\\wordsim353.tsv -> build\\lib.win32-3.8\\gensim\\test\\test_data\n",
      "  creating build\\lib.win32-3.8\\gensim\\test\\test_data\\DTM\n",
      "  copying gensim\\test\\test_data\\DTM\\ldaseq_3_0_1_model -> build\\lib.win32-3.8\\gensim\\test\\test_data\\DTM\n",
      "  copying gensim\\test\\test_data\\DTM\\sstats_test.txt -> build\\lib.win32-3.8\\gensim\\test\\test_data\\DTM\n",
      "  creating build\\lib.win32-3.8\\gensim\\test\\test_data\\PathLineSentences\n",
      "  copying gensim\\test\\test_data\\PathLineSentences\\1.txt -> build\\lib.win32-3.8\\gensim\\test\\test_data\\PathLineSentences\n",
      "  copying gensim\\test\\test_data\\PathLineSentences\\2.txt.bz2 -> build\\lib.win32-3.8\\gensim\\test\\test_data\\PathLineSentences\n",
      "  creating build\\lib.win32-3.8\\gensim\\test\\test_data\\old_d2v_models\n",
      "  copying gensim\\test\\test_data\\old_d2v_models\\d2v_0.12.0.mdl -> build\\lib.win32-3.8\\gensim\\test\\test_data\\old_d2v_models\n",
      "  copying gensim\\test\\test_data\\old_d2v_models\\d2v_0.12.1.mdl -> build\\lib.win32-3.8\\gensim\\test\\test_data\\old_d2v_models\n",
      "  copying gensim\\test\\test_data\\old_d2v_models\\d2v_0.12.2.mdl -> build\\lib.win32-3.8\\gensim\\test\\test_data\\old_d2v_models\n",
      "  copying gensim\\test\\test_data\\old_d2v_models\\d2v_0.12.3.mdl -> build\\lib.win32-3.8\\gensim\\test\\test_data\\old_d2v_models\n"
     ]
    },
    {
     "name": "stderr",
     "output_type": "stream",
     "text": [
      "  copying gensim\\test\\test_data\\old_d2v_models\\d2v_0.12.4.mdl -> build\\lib.win32-3.8\\gensim\\test\\test_data\\old_d2v_models\n",
      "  copying gensim\\test\\test_data\\old_d2v_models\\d2v_0.13.0.mdl -> build\\lib.win32-3.8\\gensim\\test\\test_data\\old_d2v_models\n",
      "  copying gensim\\test\\test_data\\old_d2v_models\\d2v_0.13.1.mdl -> build\\lib.win32-3.8\\gensim\\test\\test_data\\old_d2v_models\n",
      "  copying gensim\\test\\test_data\\old_d2v_models\\d2v_0.13.2.mdl -> build\\lib.win32-3.8\\gensim\\test\\test_data\\old_d2v_models\n",
      "  copying gensim\\test\\test_data\\old_d2v_models\\d2v_0.13.3.mdl -> build\\lib.win32-3.8\\gensim\\test\\test_data\\old_d2v_models\n",
      "  copying gensim\\test\\test_data\\old_d2v_models\\d2v_0.13.4.mdl -> build\\lib.win32-3.8\\gensim\\test\\test_data\\old_d2v_models\n",
      "  copying gensim\\test\\test_data\\old_d2v_models\\d2v_1.0.0.mdl -> build\\lib.win32-3.8\\gensim\\test\\test_data\\old_d2v_models\n",
      "  copying gensim\\test\\test_data\\old_d2v_models\\d2v_1.0.1.mdl -> build\\lib.win32-3.8\\gensim\\test\\test_data\\old_d2v_models\n",
      "  copying gensim\\test\\test_data\\old_d2v_models\\d2v_2.0.0.mdl -> build\\lib.win32-3.8\\gensim\\test\\test_data\\old_d2v_models\n",
      "  copying gensim\\test\\test_data\\old_d2v_models\\d2v_2.1.0.mdl -> build\\lib.win32-3.8\\gensim\\test\\test_data\\old_d2v_models\n",
      "  copying gensim\\test\\test_data\\old_d2v_models\\d2v_2.2.0.mdl -> build\\lib.win32-3.8\\gensim\\test\\test_data\\old_d2v_models\n",
      "  copying gensim\\test\\test_data\\old_d2v_models\\d2v_2.3.0.mdl -> build\\lib.win32-3.8\\gensim\\test\\test_data\\old_d2v_models\n",
      "  copying gensim\\test\\test_data\\old_d2v_models\\d2v_3.0.0.mdl -> build\\lib.win32-3.8\\gensim\\test\\test_data\\old_d2v_models\n",
      "  copying gensim\\test\\test_data\\old_d2v_models\\d2v_3.1.0.mdl -> build\\lib.win32-3.8\\gensim\\test\\test_data\\old_d2v_models\n",
      "  copying gensim\\test\\test_data\\old_d2v_models\\d2v_3.2.0.mdl -> build\\lib.win32-3.8\\gensim\\test\\test_data\\old_d2v_models\n",
      "  copying gensim\\test\\test_data\\old_d2v_models\\d2v_3.3.0.mdl -> build\\lib.win32-3.8\\gensim\\test\\test_data\\old_d2v_models\n",
      "  copying gensim\\test\\test_data\\old_d2v_models\\d2v_3.4.0.mdl -> build\\lib.win32-3.8\\gensim\\test\\test_data\\old_d2v_models\n",
      "  creating build\\lib.win32-3.8\\gensim\\test\\test_data\\old_w2v_models\n",
      "  copying gensim\\test\\test_data\\old_w2v_models\\w2v_0.12.0.mdl -> build\\lib.win32-3.8\\gensim\\test\\test_data\\old_w2v_models\n",
      "  copying gensim\\test\\test_data\\old_w2v_models\\w2v_0.12.1.mdl -> build\\lib.win32-3.8\\gensim\\test\\test_data\\old_w2v_models\n",
      "  copying gensim\\test\\test_data\\old_w2v_models\\w2v_0.12.2.mdl -> build\\lib.win32-3.8\\gensim\\test\\test_data\\old_w2v_models\n",
      "  copying gensim\\test\\test_data\\old_w2v_models\\w2v_0.12.3.mdl -> build\\lib.win32-3.8\\gensim\\test\\test_data\\old_w2v_models\n",
      "  copying gensim\\test\\test_data\\old_w2v_models\\w2v_0.12.4.mdl -> build\\lib.win32-3.8\\gensim\\test\\test_data\\old_w2v_models\n",
      "  copying gensim\\test\\test_data\\old_w2v_models\\w2v_0.13.0.mdl -> build\\lib.win32-3.8\\gensim\\test\\test_data\\old_w2v_models\n",
      "  copying gensim\\test\\test_data\\old_w2v_models\\w2v_0.13.1.mdl -> build\\lib.win32-3.8\\gensim\\test\\test_data\\old_w2v_models\n",
      "  copying gensim\\test\\test_data\\old_w2v_models\\w2v_0.13.2.mdl -> build\\lib.win32-3.8\\gensim\\test\\test_data\\old_w2v_models\n",
      "  copying gensim\\test\\test_data\\old_w2v_models\\w2v_0.13.3.mdl -> build\\lib.win32-3.8\\gensim\\test\\test_data\\old_w2v_models\n",
      "  copying gensim\\test\\test_data\\old_w2v_models\\w2v_0.13.4.mdl -> build\\lib.win32-3.8\\gensim\\test\\test_data\\old_w2v_models\n",
      "  copying gensim\\test\\test_data\\old_w2v_models\\w2v_1.0.0.mdl -> build\\lib.win32-3.8\\gensim\\test\\test_data\\old_w2v_models\n",
      "  copying gensim\\test\\test_data\\old_w2v_models\\w2v_1.0.1.mdl -> build\\lib.win32-3.8\\gensim\\test\\test_data\\old_w2v_models\n",
      "  copying gensim\\test\\test_data\\old_w2v_models\\w2v_2.0.0.mdl -> build\\lib.win32-3.8\\gensim\\test\\test_data\\old_w2v_models\n",
      "  copying gensim\\test\\test_data\\old_w2v_models\\w2v_2.1.0.mdl -> build\\lib.win32-3.8\\gensim\\test\\test_data\\old_w2v_models\n",
      "  copying gensim\\test\\test_data\\old_w2v_models\\w2v_2.2.0.mdl -> build\\lib.win32-3.8\\gensim\\test\\test_data\\old_w2v_models\n",
      "  copying gensim\\test\\test_data\\old_w2v_models\\w2v_2.3.0.mdl -> build\\lib.win32-3.8\\gensim\\test\\test_data\\old_w2v_models\n",
      "  copying gensim\\test\\test_data\\old_w2v_models\\w2v_3.0.0.mdl -> build\\lib.win32-3.8\\gensim\\test\\test_data\\old_w2v_models\n",
      "  copying gensim\\test\\test_data\\old_w2v_models\\w2v_3.1.0.mdl -> build\\lib.win32-3.8\\gensim\\test\\test_data\\old_w2v_models\n",
      "  copying gensim\\test\\test_data\\old_w2v_models\\w2v_3.2.0.mdl -> build\\lib.win32-3.8\\gensim\\test\\test_data\\old_w2v_models\n",
      "  copying gensim\\test\\test_data\\old_w2v_models\\w2v_3.3.0.mdl -> build\\lib.win32-3.8\\gensim\\test\\test_data\\old_w2v_models\n",
      "  copying gensim\\test\\test_data\\old_w2v_models\\w2v_3.4.0.mdl -> build\\lib.win32-3.8\\gensim\\test\\test_data\\old_w2v_models\n",
      "  running build_ext\n",
      "  building 'gensim.models.word2vec_inner' extension\n",
      "  creating build\\temp.win32-3.8\n",
      "  creating build\\temp.win32-3.8\\Release\n",
      "  creating build\\temp.win32-3.8\\Release\\gensim\n",
      "  creating build\\temp.win32-3.8\\Release\\gensim\\models\n",
      "  C:\\Program Files\\Microsoft Visual Studio\\2019\\Community\\VC\\Tools\\MSVC\\14.28.29910\\bin\\HostX86\\x86\\cl.exe /c /nologo /Ox /W3 /GL /DNDEBUG /MD -IC:\\Python_mehak\\include -IC:\\Python_mehak\\include -IC:\\Python_mehak\\lib\\site-packages\\numpy\\core\\include \"-IC:\\Program Files\\Microsoft Visual Studio\\2019\\Community\\VC\\Tools\\MSVC\\14.28.29910\\ATLMFC\\include\" \"-IC:\\Program Files\\Microsoft Visual Studio\\2019\\Community\\VC\\Tools\\MSVC\\14.28.29910\\include\" /Tcgensim/models/word2vec_inner.c /Fobuild\\temp.win32-3.8\\Release\\gensim/models/word2vec_inner.obj\n",
      "  word2vec_inner.c\n",
      "  C:\\Python_mehak\\include\\pyconfig.h(59): fatal error C1083: Cannot open include file: 'io.h': No such file or directory\n",
      "  error: command 'C:\\\\Program Files\\\\Microsoft Visual Studio\\\\2019\\\\Community\\\\VC\\\\Tools\\\\MSVC\\\\14.28.29910\\\\bin\\\\HostX86\\\\x86\\\\cl.exe' failed with exit status 2\n",
      "  ----------------------------------------\n",
      "  ERROR: Failed building wheel for gensim\n",
      "    ERROR: Command errored out with exit status 1:\n",
      "     command: 'C:\\Python_mehak\\python.exe' -u -c 'import sys, setuptools, tokenize; sys.argv[0] = '\"'\"'C:\\\\Users\\\\Manan garg\\\\AppData\\\\Local\\\\Temp\\\\pip-install-divt05vl\\\\gensim\\\\setup.py'\"'\"'; __file__='\"'\"'C:\\\\Users\\\\Manan garg\\\\AppData\\\\Local\\\\Temp\\\\pip-install-divt05vl\\\\gensim\\\\setup.py'\"'\"';f=getattr(tokenize, '\"'\"'open'\"'\"', open)(__file__);code=f.read().replace('\"'\"'\\r\\n'\"'\"', '\"'\"'\\n'\"'\"');f.close();exec(compile(code, __file__, '\"'\"'exec'\"'\"'))' install --record 'C:\\Users\\Manan garg\\AppData\\Local\\Temp\\pip-record-13beub4h\\install-record.txt' --single-version-externally-managed --compile --install-headers 'C:\\Python_mehak\\Include\\gensim'\n",
      "         cwd: C:\\Users\\Manan garg\\AppData\\Local\\Temp\\pip-install-divt05vl\\gensim\\\n",
      "    Complete output (120 lines):\n",
      "    running install\n",
      "    running build\n",
      "    running build_py\n",
      "    creating build\n",
      "    creating build\\lib.win32-3.8\n",
      "    creating build\\lib.win32-3.8\\gensim\n",
      "    copying gensim\\downloader.py -> build\\lib.win32-3.8\\gensim\n",
      "    copying gensim\\interfaces.py -> build\\lib.win32-3.8\\gensim\n",
      "    copying gensim\\matutils.py -> build\\lib.win32-3.8\\gensim\n",
      "    copying gensim\\nosy.py -> build\\lib.win32-3.8\\gensim\n",
      "    copying gensim\\utils.py -> build\\lib.win32-3.8\\gensim\n",
      "    copying gensim\\__init__.py -> build\\lib.win32-3.8\\gensim\n",
      "    creating build\\lib.win32-3.8\\gensim\\corpora\n",
      "    copying gensim\\corpora\\bleicorpus.py -> build\\lib.win32-3.8\\gensim\\corpora\n",
      "    copying gensim\\corpora\\csvcorpus.py -> build\\lib.win32-3.8\\gensim\\corpora\n",
      "    copying gensim\\corpora\\dictionary.py -> build\\lib.win32-3.8\\gensim\\corpora\n",
      "    copying gensim\\corpora\\hashdictionary.py -> build\\lib.win32-3.8\\gensim\\corpora\n",
      "    copying gensim\\corpora\\indexedcorpus.py -> build\\lib.win32-3.8\\gensim\\corpora\n",
      "    copying gensim\\corpora\\lowcorpus.py -> build\\lib.win32-3.8\\gensim\\corpora\n",
      "    copying gensim\\corpora\\malletcorpus.py -> build\\lib.win32-3.8\\gensim\\corpora\n",
      "    copying gensim\\corpora\\mmcorpus.py -> build\\lib.win32-3.8\\gensim\\corpora\n",
      "    copying gensim\\corpora\\opinosiscorpus.py -> build\\lib.win32-3.8\\gensim\\corpora\n",
      "    copying gensim\\corpora\\sharded_corpus.py -> build\\lib.win32-3.8\\gensim\\corpora\n",
      "    copying gensim\\corpora\\svmlightcorpus.py -> build\\lib.win32-3.8\\gensim\\corpora\n",
      "    copying gensim\\corpora\\textcorpus.py -> build\\lib.win32-3.8\\gensim\\corpora\n",
      "    copying gensim\\corpora\\ucicorpus.py -> build\\lib.win32-3.8\\gensim\\corpora\n",
      "    copying gensim\\corpora\\wikicorpus.py -> build\\lib.win32-3.8\\gensim\\corpora\n",
      "    copying gensim\\corpora\\__init__.py -> build\\lib.win32-3.8\\gensim\\corpora\n",
      "    creating build\\lib.win32-3.8\\gensim\\models\n",
      "    copying gensim\\models\\atmodel.py -> build\\lib.win32-3.8\\gensim\\models\n",
      "    copying gensim\\models\\basemodel.py -> build\\lib.win32-3.8\\gensim\\models\n",
      "    copying gensim\\models\\callbacks.py -> build\\lib.win32-3.8\\gensim\\models\n",
      "    copying gensim\\models\\coherencemodel.py -> build\\lib.win32-3.8\\gensim\\models\n",
      "    copying gensim\\models\\doc2vec.py -> build\\lib.win32-3.8\\gensim\\models\n",
      "    copying gensim\\models\\ensemblelda.py -> build\\lib.win32-3.8\\gensim\\models\n",
      "    copying gensim\\models\\fasttext.py -> build\\lib.win32-3.8\\gensim\\models\n",
      "    copying gensim\\models\\hdpmodel.py -> build\\lib.win32-3.8\\gensim\\models\n",
      "    copying gensim\\models\\keyedvectors.py -> build\\lib.win32-3.8\\gensim\\models\n",
      "    copying gensim\\models\\ldamodel.py -> build\\lib.win32-3.8\\gensim\\models\n",
      "    copying gensim\\models\\ldamulticore.py -> build\\lib.win32-3.8\\gensim\\models\n",
      "    copying gensim\\models\\ldaseqmodel.py -> build\\lib.win32-3.8\\gensim\\models\n",
      "    copying gensim\\models\\lda_dispatcher.py -> build\\lib.win32-3.8\\gensim\\models\n",
      "    copying gensim\\models\\lda_worker.py -> build\\lib.win32-3.8\\gensim\\models\n",
      "    copying gensim\\models\\logentropy_model.py -> build\\lib.win32-3.8\\gensim\\models\n",
      "    copying gensim\\models\\lsimodel.py -> build\\lib.win32-3.8\\gensim\\models\n",
      "    copying gensim\\models\\lsi_dispatcher.py -> build\\lib.win32-3.8\\gensim\\models\n",
      "    copying gensim\\models\\lsi_worker.py -> build\\lib.win32-3.8\\gensim\\models\n",
      "    copying gensim\\models\\nmf.py -> build\\lib.win32-3.8\\gensim\\models\n",
      "    copying gensim\\models\\normmodel.py -> build\\lib.win32-3.8\\gensim\\models\n",
      "    copying gensim\\models\\phrases.py -> build\\lib.win32-3.8\\gensim\\models\n",
      "    copying gensim\\models\\poincare.py -> build\\lib.win32-3.8\\gensim\\models\n",
      "    copying gensim\\models\\rpmodel.py -> build\\lib.win32-3.8\\gensim\\models\n",
      "    copying gensim\\models\\tfidfmodel.py -> build\\lib.win32-3.8\\gensim\\models\n",
      "    copying gensim\\models\\translation_matrix.py -> build\\lib.win32-3.8\\gensim\\models\n",
      "    copying gensim\\models\\word2vec.py -> build\\lib.win32-3.8\\gensim\\models\n",
      "    copying gensim\\models\\_fasttext_bin.py -> build\\lib.win32-3.8\\gensim\\models\n",
      "    copying gensim\\models\\__init__.py -> build\\lib.win32-3.8\\gensim\\models\n",
      "    creating build\\lib.win32-3.8\\gensim\\parsing\n",
      "    copying gensim\\parsing\\porter.py -> build\\lib.win32-3.8\\gensim\\parsing\n",
      "    copying gensim\\parsing\\preprocessing.py -> build\\lib.win32-3.8\\gensim\\parsing\n",
      "    copying gensim\\parsing\\__init__.py -> build\\lib.win32-3.8\\gensim\\parsing\n",
      "    creating build\\lib.win32-3.8\\gensim\\scripts\n",
      "    copying gensim\\scripts\\benchmark.py -> build\\lib.win32-3.8\\gensim\\scripts\n",
      "    copying gensim\\scripts\\glove2word2vec.py -> build\\lib.win32-3.8\\gensim\\scripts\n",
      "    copying gensim\\scripts\\make_wiki.py -> build\\lib.win32-3.8\\gensim\\scripts\n",
      "    copying gensim\\scripts\\make_wikicorpus.py -> build\\lib.win32-3.8\\gensim\\scripts\n",
      "    copying gensim\\scripts\\make_wiki_online.py -> build\\lib.win32-3.8\\gensim\\scripts\n",
      "    copying gensim\\scripts\\make_wiki_online_nodebug.py -> build\\lib.win32-3.8\\gensim\\scripts\n",
      "    copying gensim\\scripts\\package_info.py -> build\\lib.win32-3.8\\gensim\\scripts\n",
      "    copying gensim\\scripts\\segment_wiki.py -> build\\lib.win32-3.8\\gensim\\scripts\n",
      "    copying gensim\\scripts\\word2vec2tensor.py -> build\\lib.win32-3.8\\gensim\\scripts\n",
      "    copying gensim\\scripts\\word2vec_standalone.py -> build\\lib.win32-3.8\\gensim\\scripts\n",
      "    copying gensim\\scripts\\__init__.py -> build\\lib.win32-3.8\\gensim\\scripts\n",
      "    creating build\\lib.win32-3.8\\gensim\\similarities\n",
      "    copying gensim\\similarities\\annoy.py -> build\\lib.win32-3.8\\gensim\\similarities\n",
      "    copying gensim\\similarities\\docsim.py -> build\\lib.win32-3.8\\gensim\\similarities\n",
      "    copying gensim\\similarities\\levenshtein.py -> build\\lib.win32-3.8\\gensim\\similarities\n",
      "    copying gensim\\similarities\\nmslib.py -> build\\lib.win32-3.8\\gensim\\similarities\n",
      "    copying gensim\\similarities\\termsim.py -> build\\lib.win32-3.8\\gensim\\similarities\n",
      "    copying gensim\\similarities\\__init__.py -> build\\lib.win32-3.8\\gensim\\similarities\n",
      "    creating build\\lib.win32-3.8\\gensim\\test\n",
      "    copying gensim\\test\\basetmtests.py -> build\\lib.win32-3.8\\gensim\\test\n",
      "    copying gensim\\test\\simspeed.py -> build\\lib.win32-3.8\\gensim\\test\n",
      "    copying gensim\\test\\simspeed2.py -> build\\lib.win32-3.8\\gensim\\test\n",
      "    copying gensim\\test\\svd_error.py -> build\\lib.win32-3.8\\gensim\\test\n",
      "    copying gensim\\test\\test_aggregation.py -> build\\lib.win32-3.8\\gensim\\test\n",
      "    copying gensim\\test\\test_api.py -> build\\lib.win32-3.8\\gensim\\test\n",
      "    copying gensim\\test\\test_atmodel.py -> build\\lib.win32-3.8\\gensim\\test\n",
      "    copying gensim\\test\\test_big.py -> build\\lib.win32-3.8\\gensim\\test\n",
      "    copying gensim\\test\\test_coherencemodel.py -> build\\lib.win32-3.8\\gensim\\test\n",
      "    copying gensim\\test\\test_corpora.py -> build\\lib.win32-3.8\\gensim\\test\n",
      "    copying gensim\\test\\test_corpora_dictionary.py -> build\\lib.win32-3.8\\gensim\\test\n",
      "    copying gensim\\test\\test_corpora_hashdictionary.py -> build\\lib.win32-3.8\\gensim\\test\n",
      "    copying gensim\\test\\test_datatype.py -> build\\lib.win32-3.8\\gensim\\test\n",
      "    copying gensim\\test\\test_direct_confirmation.py -> build\\lib.win32-3.8\\gensim\\test\n",
      "    copying gensim\\test\\test_doc2vec.py -> build\\lib.win32-3.8\\gensim\\test\n",
      "    copying gensim\\test\\test_dtm.py -> build\\lib.win32-3.8\\gensim\\test\n",
      "    copying gensim\\test\\test_ensemblelda.py -> build\\lib.win32-3.8\\gensim\\test\n",
      "    copying gensim\\test\\test_fasttext.py -> build\\lib.win32-3.8\\gensim\\test\n",
      "    copying gensim\\test\\test_glove2word2vec.py -> build\\lib.win32-3.8\\gensim\\test\n",
      "    copying gensim\\test\\test_hdpmodel.py -> build\\lib.win32-3.8\\gensim\\test\n",
      "    copying gensim\\test\\test_indirect_confirmation.py -> build\\lib.win32-3.8\\gensim\\test\n",
      "    copying gensim\\test\\test_keyedvectors.py -> build\\lib.win32-3.8\\gensim\\test\n",
      "    copying gensim\\test\\test_ldamodel.py -> build\\lib.win32-3.8\\gensim\\test\n",
      "    copying gensim\\test\\test_ldaseqmodel.py -> build\\lib.win32-3.8\\gensim\\test\n",
      "    copying gensim\\test\\test_lda_callback.py -> build\\lib.win32-3.8\\gensim\\test\n",
      "    copying gensim\\test\\test_lee.py -> build\\lib.win32-3.8\\gensim\\test\n",
      "    copying gensim\\test\\test_logentropy_model.py -> build\\lib.win32-3.8\\gensim\\test\n",
      "    copying gensim\\test\\test_lsimodel.py -> build\\lib.win32-3.8\\gensim\\test\n",
      "    copying gensim\\test\\test_matutils.py -> build\\lib.win32-3.8\\gensim\\test\n",
      "    copying gensim\\test\\test_miislita.py -> build\\lib.win32-3.8\\gensim\\test\n",
      "    copying gensim\\test\\test_nmf.py -> build\\lib.win32-3.8\\gensim\\test\n",
      "    copying gensim\\test\\test_normmodel.py -> build\\lib.win32-3.8\\gensim\\test\n",
      "    copying gensim\\test\\test_parsing.py -> build\\lib.win32-3.8\\gensim\\test\n",
      "    copying gensim\\test\\test_phrases.py -> build\\lib.win32-3.8\\gensim\\test\n",
      "    copying gensim\\test\\test_poincare.py -> build\\lib.win32-3.8\\gensim\\test\n",
      "    copying gensim\\test\\test_probability_estimation.py -> build\\lib.win32-3.8\\gensim\\test\n",
      "    copying gensim\\test\\test_rpmodel.py -> build\\lib.win32-3.8\\gensim\\test\n",
      "    copying gensim\\test\\test_scripts.py -> build\\lib.win32-3.8\\gensim\\test\n",
      "    error: could not read from 'gensim\\test\\test_scripts.py': Not enough space\n",
      "    ----------------------------------------\n",
      "ERROR: Command errored out with exit status 1: 'C:\\Python_mehak\\python.exe' -u -c 'import sys, setuptools, tokenize; sys.argv[0] = '\"'\"'C:\\\\Users\\\\Manan garg\\\\AppData\\\\Local\\\\Temp\\\\pip-install-divt05vl\\\\gensim\\\\setup.py'\"'\"'; __file__='\"'\"'C:\\\\Users\\\\Manan garg\\\\AppData\\\\Local\\\\Temp\\\\pip-install-divt05vl\\\\gensim\\\\setup.py'\"'\"';f=getattr(tokenize, '\"'\"'open'\"'\"', open)(__file__);code=f.read().replace('\"'\"'\\r\\n'\"'\"', '\"'\"'\\n'\"'\"');f.close();exec(compile(code, __file__, '\"'\"'exec'\"'\"'))' install --record 'C:\\Users\\Manan garg\\AppData\\Local\\Temp\\pip-record-13beub4h\\install-record.txt' --single-version-externally-managed --compile --install-headers 'C:\\Python_mehak\\Include\\gensim' Check the logs for full command output.\n"
     ]
    }
   ],
   "source": [
    "pip install gensim"
   ]
  },
  {
   "cell_type": "code",
   "execution_count": 4,
   "metadata": {},
   "outputs": [
    {
     "ename": "ModuleNotFoundError",
     "evalue": "No module named 'gensim'",
     "output_type": "error",
     "traceback": [
      "\u001b[1;31m---------------------------------------------------------------------------\u001b[0m",
      "\u001b[1;31mModuleNotFoundError\u001b[0m                       Traceback (most recent call last)",
      "\u001b[1;32m<ipython-input-4-84abd30ef74d>\u001b[0m in \u001b[0;36m<module>\u001b[1;34m\u001b[0m\n\u001b[1;32m----> 1\u001b[1;33m \u001b[1;32mimport\u001b[0m \u001b[0mgensim\u001b[0m\u001b[1;33m\u001b[0m\u001b[1;33m\u001b[0m\u001b[0m\n\u001b[0m\u001b[0;32m      2\u001b[0m \u001b[1;32mfrom\u001b[0m \u001b[0mgensim\u001b[0m\u001b[1;33m.\u001b[0m\u001b[0mmodels\u001b[0m \u001b[1;32mimport\u001b[0m \u001b[0mword2vec\u001b[0m\u001b[1;33m\u001b[0m\u001b[1;33m\u001b[0m\u001b[0m\n\u001b[0;32m      3\u001b[0m \u001b[1;32mfrom\u001b[0m \u001b[0mgensim\u001b[0m\u001b[1;33m.\u001b[0m\u001b[0mmodels\u001b[0m \u001b[1;32mimport\u001b[0m \u001b[0mKeyedVectors\u001b[0m\u001b[1;33m\u001b[0m\u001b[1;33m\u001b[0m\u001b[0m\n\u001b[0;32m      4\u001b[0m \u001b[1;32mfrom\u001b[0m \u001b[0msklearn\u001b[0m\u001b[1;33m.\u001b[0m\u001b[0mmetrics\u001b[0m\u001b[1;33m.\u001b[0m\u001b[0mpairwise\u001b[0m \u001b[1;32mimport\u001b[0m \u001b[0mcosine_similarity\u001b[0m\u001b[1;33m\u001b[0m\u001b[1;33m\u001b[0m\u001b[0m\n",
      "\u001b[1;31mModuleNotFoundError\u001b[0m: No module named 'gensim'"
     ]
    }
   ],
   "source": [
    "import gensim\n",
    "from gensim.models import word2vec\n",
    "from gensim.models import KeyedVectors\n",
    "from sklearn.metrics.pairwise import cosine_similarity"
   ]
  },
  {
   "cell_type": "code",
   "execution_count": 2,
   "metadata": {},
   "outputs": [],
   "source": [
    "word_vectors = KeyedVectors.load_word2vec_format('GoogleNews-vectors-negative300.bin',binary=True)"
   ]
  },
  {
   "cell_type": "code",
   "execution_count": 3,
   "metadata": {},
   "outputs": [],
   "source": [
    "v_apple = word_vectors[\"apple\"] \n",
    "v_mango = word_vectors[\"india\"]"
   ]
  },
  {
   "cell_type": "code",
   "execution_count": 4,
   "metadata": {},
   "outputs": [
    {
     "name": "stdout",
     "output_type": "stream",
     "text": [
      "(300,)\n",
      "(300,)\n"
     ]
    }
   ],
   "source": [
    "print(v_apple.shape)\n",
    "print(v_mango.shape)"
   ]
  },
  {
   "cell_type": "code",
   "execution_count": 5,
   "metadata": {},
   "outputs": [
    {
     "data": {
      "text/plain": [
       "array([[0.17158596]], dtype=float32)"
      ]
     },
     "execution_count": 5,
     "metadata": {},
     "output_type": "execute_result"
    }
   ],
   "source": [
    "cosine_similarity([v_mango],[v_apple])"
   ]
  },
  {
   "cell_type": "code",
   "execution_count": 6,
   "metadata": {},
   "outputs": [],
   "source": [
    "import numpy as np"
   ]
  },
  {
   "cell_type": "markdown",
   "metadata": {},
   "source": [
    "## 1. Find the Odd One Out"
   ]
  },
  {
   "cell_type": "code",
   "execution_count": 7,
   "metadata": {},
   "outputs": [],
   "source": [
    "def odd_one_out(words):\n",
    "    \"\"\"Accepts a list of words and returns the odd word\"\"\"\n",
    "    \n",
    "    # Generate all word embeddings for the given list\n",
    "    all_word_vectors = [word_vectors[w] for w in words]\n",
    "    avg_vector = np.mean(all_word_vectors,axis=0)\n",
    "    print(avg_vector.shape)\n",
    "    \n",
    "    #Iterate over every word and find similarity\n",
    "    odd_one_out = None\n",
    "    min_similarity = 1.0 #Very high value\n",
    "    \n",
    "    for w in words:\n",
    "        sim = cosine_similarity([word_vectors[w]],[avg_vector])\n",
    "        if sim < min_similarity:\n",
    "            min_similarity = sim\n",
    "            odd_one_out = w\n",
    "    \n",
    "        print(\"Similairy btw %s and avg vector is %.2f\"%(w,sim))\n",
    "            \n",
    "    return odd_one_out"
   ]
  },
  {
   "cell_type": "code",
   "execution_count": 9,
   "metadata": {},
   "outputs": [],
   "source": [
    "input_1 = [\"apple\",\"mango\",\"juice\",\"party\",\"orange\"] \n",
    "input_2 = [\"music\",\"dance\",\"sleep\",\"dancer\",\"food\"]        \n",
    "input_3  = [\"match\",\"player\",\"football\",\"cricket\",\"dancer\"]\n",
    "input_4 = [\"india\",\"paris\",\"russia\",\"france\",\"germany\"]"
   ]
  },
  {
   "cell_type": "code",
   "execution_count": 10,
   "metadata": {},
   "outputs": [
    {
     "name": "stdout",
     "output_type": "stream",
     "text": [
      "(300,)\n",
      "Similairy btw apple and avg vector is 0.78\n",
      "Similairy btw mango and avg vector is 0.76\n",
      "Similairy btw juice and avg vector is 0.71\n",
      "Similairy btw party and avg vector is 0.36\n",
      "Similairy btw orange and avg vector is 0.65\n"
     ]
    },
    {
     "data": {
      "text/plain": [
       "'party'"
      ]
     },
     "execution_count": 10,
     "metadata": {},
     "output_type": "execute_result"
    }
   ],
   "source": [
    "odd_one_out(input_1) "
   ]
  },
  {
   "cell_type": "code",
   "execution_count": 11,
   "metadata": {},
   "outputs": [
    {
     "name": "stdout",
     "output_type": "stream",
     "text": [
      "(300,)\n",
      "Similairy btw music and avg vector is 0.66\n",
      "Similairy btw dance and avg vector is 0.81\n",
      "Similairy btw sleep and avg vector is 0.51\n",
      "Similairy btw dancer and avg vector is 0.72\n",
      "Similairy btw food and avg vector is 0.52\n"
     ]
    },
    {
     "data": {
      "text/plain": [
       "'sleep'"
      ]
     },
     "execution_count": 11,
     "metadata": {},
     "output_type": "execute_result"
    }
   ],
   "source": [
    "odd_one_out(input_2) "
   ]
  },
  {
   "cell_type": "code",
   "execution_count": 12,
   "metadata": {},
   "outputs": [
    {
     "name": "stdout",
     "output_type": "stream",
     "text": [
      "(300,)\n",
      "Similairy btw match and avg vector is 0.58\n",
      "Similairy btw player and avg vector is 0.68\n",
      "Similairy btw football and avg vector is 0.72\n",
      "Similairy btw cricket and avg vector is 0.70\n",
      "Similairy btw dancer and avg vector is 0.53\n"
     ]
    },
    {
     "data": {
      "text/plain": [
       "'dancer'"
      ]
     },
     "execution_count": 12,
     "metadata": {},
     "output_type": "execute_result"
    }
   ],
   "source": [
    "odd_one_out(input_3)"
   ]
  },
  {
   "cell_type": "code",
   "execution_count": 13,
   "metadata": {},
   "outputs": [
    {
     "name": "stdout",
     "output_type": "stream",
     "text": [
      "(300,)\n",
      "Similairy btw india and avg vector is 0.81\n",
      "Similairy btw paris and avg vector is 0.75\n",
      "Similairy btw russia and avg vector is 0.79\n",
      "Similairy btw france and avg vector is 0.81\n",
      "Similairy btw germany and avg vector is 0.84\n"
     ]
    },
    {
     "data": {
      "text/plain": [
       "'paris'"
      ]
     },
     "execution_count": 13,
     "metadata": {},
     "output_type": "execute_result"
    }
   ],
   "source": [
    "odd_one_out(input_4)"
   ]
  },
  {
   "cell_type": "markdown",
   "metadata": {},
   "source": [
    "### 2. Word Analogies Task"
   ]
  },
  {
   "cell_type": "markdown",
   "metadata": {},
   "source": [
    "In the word analogy task, we complete the sentence \"a is to b as c is to __\". An example is 'man is to woman as king is to queen' . In detail, we are trying to find a word d, such that the associated word vectors `ea,eb,ec,ed` are related in the following manner: `eb−ea≈ed−ec`. We will measure the similarity between `eb−ea` and `ed−ec` using cosine similarity. \n",
    "\n",
    "![Word2Vec](./images/word2vec.png)"
   ]
  },
  {
   "cell_type": "markdown",
   "metadata": {},
   "source": [
    "`man -> woman :: \tprince -> princess`  \n",
    "`italy -> italian :: \tspain -> spanish`  \n",
    "`india -> delhi :: \tjapan -> tokyo`  \n",
    "`man -> woman :: \tboy -> girl`  \n",
    "`small -> smaller :: \tlarge -> larger`  \n",
    "\n",
    "#### Try it out \n",
    "\n",
    "\n",
    "`man -> coder :: woman -> ______?`\n"
   ]
  },
  {
   "cell_type": "code",
   "execution_count": 4,
   "metadata": {},
   "outputs": [
    {
     "data": {
      "text/plain": [
       "dict"
      ]
     },
     "execution_count": 4,
     "metadata": {},
     "output_type": "execute_result"
    }
   ],
   "source": [
    "type(word_vectors.vocab)"
   ]
  },
  {
   "cell_type": "code",
   "execution_count": 6,
   "metadata": {},
   "outputs": [
    {
     "data": {
      "text/plain": [
       "(300,)"
      ]
     },
     "execution_count": 6,
     "metadata": {},
     "output_type": "execute_result"
    }
   ],
   "source": [
    "word_vectors[\"man\"].shape"
   ]
  },
  {
   "cell_type": "code",
   "execution_count": 7,
   "metadata": {},
   "outputs": [],
   "source": [
    "def predict_word(a,b,c,word_vectors):\n",
    "    \"\"\"Accepts a triad of words, a,b,c and returns d such that a is to b : c is to d\"\"\"\n",
    "    a,b,c = a.lower(),b.lower(),c.lower()\n",
    "    \n",
    "    # similarity |b-a| = |d-c| should be max\n",
    "    max_similarity = -100 \n",
    "    \n",
    "    d = None\n",
    "    \n",
    "    words = word_vectors.vocab.keys()\n",
    "    \n",
    "    wa,wb,wc = word_vectors[a],word_vectors[b],word_vectors[c]\n",
    "    \n",
    "    #to find d s.t similarity(|b-a|,|d-c|) should be max\n",
    "    \n",
    "    for w in words:\n",
    "        if w in [a,b,c]:\n",
    "            continue\n",
    "        \n",
    "        wv = word_vectors[w]\n",
    "        sim = cosine_similarity([wb-wa],[wv-wc])\n",
    "        \n",
    "        if sim > max_similarity:\n",
    "            max_similarity = sim\n",
    "            d = w\n",
    "            \n",
    "    return d    "
   ]
  },
  {
   "cell_type": "code",
   "execution_count": 34,
   "metadata": {},
   "outputs": [
    {
     "data": {
      "text/plain": [
       "'princess'"
      ]
     },
     "execution_count": 34,
     "metadata": {},
     "output_type": "execute_result"
    }
   ],
   "source": [
    "triad_2 = (\"man\",\"woman\",\"prince\")\n",
    "predict_word(*triad_2,word_vectors)\n"
   ]
  },
  {
   "cell_type": "markdown",
   "metadata": {},
   "source": [
    "## Using the Most Similar Method"
   ]
  },
  {
   "cell_type": "code",
   "execution_count": 33,
   "metadata": {},
   "outputs": [
    {
     "name": "stderr",
     "output_type": "stream",
     "text": [
      "c:\\python36\\lib\\site-packages\\gensim\\matutils.py:737: FutureWarning: Conversion of the second argument of issubdtype from `int` to `np.signedinteger` is deprecated. In future, it will be treated as `np.int32 == np.dtype(int).type`.\n",
      "  if np.issubdtype(vec.dtype, np.int):\n"
     ]
    },
    {
     "data": {
      "text/plain": [
       "[('queen', 0.7118192911148071)]"
      ]
     },
     "execution_count": 33,
     "metadata": {},
     "output_type": "execute_result"
    }
   ],
   "source": [
    "word_vectors.most_similar(positive=['woman', 'king'], negative=['man'], topn=1)"
   ]
  }
 ],
 "metadata": {
  "kernelspec": {
   "display_name": "Python 3",
   "language": "python",
   "name": "python3"
  },
  "language_info": {
   "codemirror_mode": {
    "name": "ipython",
    "version": 3
   },
   "file_extension": ".py",
   "mimetype": "text/x-python",
   "name": "python",
   "nbconvert_exporter": "python",
   "pygments_lexer": "ipython3",
   "version": "3.8.3"
  }
 },
 "nbformat": 4,
 "nbformat_minor": 2
}
