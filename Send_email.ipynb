{
 "cells": [
  {
   "cell_type": "code",
   "execution_count": null,
   "metadata": {},
   "outputs": [],
   "source": [
    "import smtplib\n",
    "import getpass\n",
    "from email.mime.text import MIMEText\n",
    "\n",
    "def send_email():\n",
    "    sender_address=\"mehakgarg475@gmail.com\"\n",
    "    password=getpass.getpass()\n",
    "    subject=\"Learn.Inspire.Grow\"\n",
    "    msg=''' \n",
    "        Hi \n",
    "        Greeting from placement program !\n",
    "        \n",
    "        Thank you\n",
    "    '''\n",
    "    reciepents=[\"mehakgarg475@gmail.com\",\"bhawnagarg475@gmail.com\"]\n",
    "    \n",
    "    server=smtplib.SMTP(\"smtp.gmail.com\",587)\n",
    "    server.starttls()\n",
    "    server.login(sender_address,password)\n",
    "    \n",
    "    msg=MIMEText(msg)\n",
    "    msg['From']=sender_address\n",
    "    #msg['To']=','.join(reciepents)\n",
    "    msg['To']=\"mehakgarg475@gmail.com\"\n",
    "    msg['Subject']=subject\n",
    "    \n",
    "    server.sendmail(sender_address,reciepents,msg.as_string())\n",
    "    \n",
    "send_email()"
   ]
  }
 ],
 "metadata": {
  "kernelspec": {
   "display_name": "Python 3",
   "language": "python",
   "name": "python3"
  },
  "language_info": {
   "codemirror_mode": {
    "name": "ipython",
    "version": 3
   },
   "file_extension": ".py",
   "mimetype": "text/x-python",
   "name": "python",
   "nbconvert_exporter": "python",
   "pygments_lexer": "ipython3",
   "version": "3.8.3"
  }
 },
 "nbformat": 4,
 "nbformat_minor": 4
}
