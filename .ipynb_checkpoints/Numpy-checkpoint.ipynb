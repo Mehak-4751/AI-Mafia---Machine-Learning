{
 "cells": [
  {
   "cell_type": "markdown",
   "metadata": {},
   "source": [
    "# Numpy"
   ]
  },
  {
   "cell_type": "code",
   "execution_count": 2,
   "metadata": {},
   "outputs": [],
   "source": [
    "import numpy as np"
   ]
  },
  {
   "cell_type": "code",
   "execution_count": 8,
   "metadata": {},
   "outputs": [
    {
     "name": "stdout",
     "output_type": "stream",
     "text": [
      "print array\n",
      " [[1 2]\n",
      " [3 4]]\n",
      "type of array <class 'numpy.ndarray'>\n",
      "Dimensions array 2\n",
      "no of rows * no of columns =  (2, 2)\n",
      "no of elements in array 4\n",
      "data type of array int32\n"
     ]
    }
   ],
   "source": [
    "#Creating an array\n",
    "arr=np.array([[1,2],[3,4]])\n",
    "\n",
    "print(\"print array\\n\",arr)\n",
    "print(\"type of array\",type(arr))\n",
    "print(\"Dimensions array\",arr.ndim)\n",
    "print(\"no of rows * no of columns = \",arr.shape)\n",
    "print(\"no of elements in array\",arr.size)\n",
    "print(\"data type of array\",arr.dtype)"
   ]
  },
  {
   "cell_type": "code",
   "execution_count": 11,
   "metadata": {},
   "outputs": [
    {
     "name": "stdout",
     "output_type": "stream",
     "text": [
      "Print array\n",
      " [[1. 2. 3.]\n",
      " [4. 5. 6.]]\n",
      "Array using tuple\n",
      " [1 2 3 4]\n",
      "Array with all zeroes\n",
      " [[0. 0. 0. 0.]\n",
      " [0. 0. 0. 0.]\n",
      " [0. 0. 0. 0.]]\n",
      "Print array with complex data type\n",
      " [[5.+0.j 5.+0.j 5.+0.j]\n",
      " [5.+0.j 5.+0.j 5.+0.j]\n",
      " [5.+0.j 5.+0.j 5.+0.j]]\n",
      "Array with random values\n",
      " [[0.61537009 0.71127439 0.37286068]\n",
      " [0.82651689 0.28341757 0.33807594]\n",
      " [0.86620491 0.85427177 0.54864112]]\n",
      "Array\n",
      " [ 0  5 10 15 20 25]\n",
      "Array containing 10 values\n",
      " [0.         0.55555556 1.11111111 1.66666667 2.22222222 2.77777778\n",
      " 3.33333333 3.88888889 4.44444444 5.        ]\n",
      "Original array\n",
      " [[ 1  2  3  4]\n",
      " [ 5  6  7  8]\n",
      " [ 9 10 11 12]]\n",
      "Array reshape to 2*2*3\n",
      " [[[ 1  2  3]\n",
      "  [ 4  5  6]]\n",
      "\n",
      " [[ 7  8  9]\n",
      "  [10 11 12]]]\n",
      "Original array\n",
      " [[1 2]\n",
      " [3 4]]\n",
      "flatten array\n",
      " [1 2 3 4]\n"
     ]
    }
   ],
   "source": [
    "# creating array from list with type float\n",
    "arr=np.array([[1,2,3],[4,5,6]],dtype=\"float\")\n",
    "print(\"Print array\\n\",arr)\n",
    "\n",
    "# creating array from tuple\n",
    "arr=np.array((1,2,3,4))\n",
    "print(\"Array using tuple\\n\",arr)\n",
    "\n",
    "# creating a 3X4 array with all zeros\n",
    "arr=np.zeros((3,4))\n",
    "print(\"Array with all zeroes\\n\",arr)\n",
    "\n",
    "# create a constant value array of complex type\n",
    "arr=np.full((3,3),5,dtype=\"complex\")\n",
    "print(\"Print array with complex data type\\n\",arr)\n",
    "\n",
    "# create an array with random values\n",
    "arr=np.random.random((3,3))\n",
    "print(\"Array with random values\\n\",arr)\n",
    "\n",
    "# create a sequence of integers from 0 to 30 with steps of 5\n",
    "arr=np.arange(0,30,5)\n",
    "print(\"Array\\n\",arr)\n",
    "\n",
    "# create a sequence of 10 values in range 0 to 5\n",
    "arr=np.linspace(0,5,10)\n",
    "print(\"Array containing 10 values\\n\",arr)\n",
    "\n",
    "# reshaping 3X4 array to 2X2X3 array\n",
    "arr=np.array([[1,2,3,4],\n",
    "              [5,6,7,8],\n",
    "              [9,10,11,12]])\n",
    "print(\"Original array\\n\",arr)\n",
    "print(\"Array reshape to 2*2*3\\n\",arr.reshape((2,2,3)))\n",
    "\n",
    "      \n",
    "# flatten array\n",
    "arr=np.array([[1,2],[3,4]])\n",
    "print(\"Original array\\n\",arr)\n",
    "print(\"flatten array\\n\",arr.flatten())\n"
   ]
  },
  {
   "cell_type": "code",
   "execution_count": 16,
   "metadata": {},
   "outputs": [
    {
     "name": "stdout",
     "output_type": "stream",
     "text": [
      "Array\n",
      " [[-1.   2.   0.   4. ]\n",
      " [ 4.  -0.5  6.   0. ]\n",
      " [ 2.6  0.   7.   8. ]\n",
      " [ 3.  -7.   4.   2. ]]\n",
      "Array elements from 2nd row to end and from start col to 3rd col\n",
      " [[ 4.  -0.5  6. ]\n",
      " [ 2.6  0.   7. ]\n",
      " [ 3.  -7.   4. ]]\n",
      "Array elements from 2nd row to end and from start col to 3rd col after leaving one element\n",
      " [[4. 6.]\n",
      " [3. 4.]]\n",
      "Elements at indices (0, 3), (1, 2), (2, 1), (3, 0)\n",
      " [4. 6. 0. 3.]\n",
      "Boolean array indexing example\n",
      " [2.  4.  4.  6.  2.6 7.  8.  3.  4.  2. ]\n"
     ]
    }
   ],
   "source": [
    "# an examplar array\n",
    "arr = np.array([[-1, 2, 0, 4],\n",
    "                [4, -0.5, 6, 0],\n",
    "                [2.6, 0, 7, 8],\n",
    "                [3, -7, 4, 2.0]])\n",
    "print(\"Array\\n\",arr)\n",
    "\n",
    "# slicing\n",
    "print(\"Array elements from 2nd row to end and from start col to 3rd col\\n\",arr[1:,:3])\n",
    "print(\"Array elements from 2nd row to end and from start col to 3rd col after leaving one element\\n\",arr[1::2,:3:2])\n",
    "\n",
    "# Elements at indices (0, 3), (1, 2), (2, 1), (3, 0)\n",
    "# syntax is arr[[rows],[col]]\n",
    "temp=arr[[0,1,2,3],[3,2,1,0]]\n",
    "print(\"Elements at indices (0, 3), (1, 2), (2, 1), (3, 0)\\n\",temp)\n",
    "\n",
    "# boolean array indexing example\n",
    "cond=arr>0\n",
    "temp=arr[cond]\n",
    "print(\"Boolean array indexing example\\n\",temp)"
   ]
  },
  {
   "cell_type": "code",
   "execution_count": 28,
   "metadata": {},
   "outputs": [
    {
     "name": "stdout",
     "output_type": "stream",
     "text": [
      "Original array [1 2 5 3]\n",
      "After adding array [2 3 6 4]\n",
      "After subtracting [-2 -1  2  0]\n",
      "After multiplication [10 20 50 30]\n",
      "Squaring [ 1  4 25  9]\n",
      "doubling [ 2  4 10  6]\n",
      "\n",
      "Original array:\n",
      " [[1 2 3]\n",
      " [3 4 5]\n",
      " [9 6 0]]\n",
      "Transpose of array:\n",
      " [[1 3 9]\n",
      " [2 4 6]\n",
      " [3 5 0]]\n",
      "Transpose of array:\n",
      " [[1 3 9]\n",
      " [2 4 6]\n",
      " [3 5 0]]\n"
     ]
    }
   ],
   "source": [
    "a = np.array([1, 2, 5, 3])\n",
    "print(\"Original array\",a)\n",
    "\n",
    "# add 1 to every element\n",
    "print(\"After adding array\",a+1)\n",
    "\n",
    "# subtract 3 from each element\n",
    "print(\"After subtracting\",a-3)\n",
    "\n",
    "# multiply each element by 10\n",
    "print(\"After multiplication\",a*10)\n",
    "\n",
    "# square each element\n",
    "print(\"Squaring\",a**2)\n",
    "\n",
    "# modify existing array\n",
    "a=a*2\n",
    "print(\"doubling\",a)\n",
    "\n",
    "# transpose of array using a.T or a.transpose()\n",
    "a = np.array([[1, 2, 3], [3, 4, 5], [9, 6, 0]])\n",
    "print(\"\\nOriginal array:\\n\", a)\n",
    "print(\"Transpose of array:\\n\", a.T)\n",
    "print(\"Transpose of array:\\n\", a.transpose())"
   ]
  },
  {
   "cell_type": "markdown",
   "metadata": {},
   "source": [
    "### Unary Operators:\n",
    "--Many unary operations are provided as a method of ndarray class. This includes sum, min, max, etc. These functions can also be applied row-wise or column-wise by setting an axis parameter."
   ]
  },
  {
   "cell_type": "code",
   "execution_count": 30,
   "metadata": {},
   "outputs": [
    {
     "name": "stdout",
     "output_type": "stream",
     "text": [
      "Largest element is: 9\n",
      "Row-wise maximum elements: [6 7 9]\n",
      "Column-wise minimum elements: [1 1 2]\n",
      "Sum of all array elements: 38\n",
      "Cumulative sum along each row:\n",
      " [[ 1  5  6]\n",
      " [ 5 12  8]\n",
      " [ 8 13 17]]\n"
     ]
    }
   ],
   "source": [
    "arr = np.array([[1, 5, 6], \n",
    "                [4, 7, 2], \n",
    "                [3, 1, 9]])\n",
    "\n",
    "# maximum element of array\n",
    "print(\"Largest element is:\", arr.max())\n",
    "print(\"Row-wise maximum elements:\", arr.max(axis = 1))\n",
    "\n",
    "# minimum element of array\n",
    "print(\"Column-wise minimum elements:\", arr.min(axis = 0))\n",
    "\n",
    "# sum of array elements\n",
    "print(\"Sum of all array elements:\", arr.sum())\n",
    "\n",
    "# cumulative sum along each row\n",
    "# for row axis=1 and for col axis=0\n",
    "print(\"Cumulative sum along each row:\\n\", arr.cumsum(axis = 1))"
   ]
  },
  {
   "cell_type": "markdown",
   "metadata": {},
   "source": [
    "### Binary operators: \n",
    "-- These operations apply on array elementwise and a new array is created. You can use all basic arithmetic operators like +, -, /, *, etc. In case of +=, -=, *= operators, the exsisting array is modified."
   ]
  },
  {
   "cell_type": "code",
   "execution_count": 31,
   "metadata": {},
   "outputs": [
    {
     "name": "stdout",
     "output_type": "stream",
     "text": [
      "Array sum:\n",
      " [[5 5]\n",
      " [5 5]]\n",
      "Array multiplication:\n",
      " [[4 6]\n",
      " [6 4]]\n",
      "Matrix multiplication:\n",
      " [[ 8  5]\n",
      " [20 13]]\n"
     ]
    }
   ],
   "source": [
    "a = np.array([[1, 2], \n",
    "              [3, 4]])\n",
    "b = np.array([[4, 3], \n",
    "              [2, 1]])\n",
    "\n",
    "# add arrays\n",
    "print(\"Array sum:\\n\", a + b)\n",
    "\n",
    "# multiply arrays (elementwise multiplication)\n",
    "print(\"Array multiplication:\\n\", a*b)\n",
    "\n",
    "# matrix multiplication\n",
    "print(\"Matrix multiplication:\\n\", a.dot(b))"
   ]
  },
  {
   "cell_type": "markdown",
   "metadata": {},
   "source": [
    "### Universal functions (ufunc): \n",
    "-- NumPy provides familiar mathematical functions such as sin, cos, exp, etc. These functions also operate elementwise on an array, producing an array as output.\n",
    "#### Note: All the operations we did above using overloaded operators can be done using ufuncs like np.add, np.subtract, np.multiply, np.divide, np.sum, etc."
   ]
  },
  {
   "cell_type": "code",
   "execution_count": 32,
   "metadata": {},
   "outputs": [
    {
     "name": "stdout",
     "output_type": "stream",
     "text": [
      "Sine values of array elements: [0.0000000e+00 1.0000000e+00 1.2246468e-16]\n",
      "Exponent of array elements: [ 1.          2.71828183  7.3890561  20.08553692]\n",
      "Square root of array elements: [0.         1.         1.41421356 1.73205081]\n"
     ]
    }
   ],
   "source": [
    "# create an array of sine values\n",
    "a = np.array([0, np.pi/2, np.pi])\n",
    "print(\"Sine values of array elements:\", np.sin(a))\n",
    "\n",
    "# exponential values\n",
    "a = np.array([0, 1, 2, 3])\n",
    "print(\"Exponent of array elements:\", np.exp(a))\n",
    "\n",
    "# square root of array values\n",
    "print(\"Square root of array elements:\", np.sqrt(a))"
   ]
  },
  {
   "cell_type": "markdown",
   "metadata": {},
   "source": [
    "### Sorting array\n",
    "-- There is a simple np.sort method for sorting NumPy arrays. Let's explore it a bit."
   ]
  },
  {
   "cell_type": "code",
   "execution_count": 5,
   "metadata": {},
   "outputs": [
    {
     "name": "stdout",
     "output_type": "stream",
     "text": [
      "Array elements in sorted order:\n",
      " [-1  0  1  2  3  4  4  5  6]\n",
      "Row-wise sorted array:\n",
      " [[ 1  2  4]\n",
      " [ 3  4  6]\n",
      " [-1  0  5]]\n",
      "Column wise sort by applying merge-sort:\n",
      " [[ 0 -1  2]\n",
      " [ 1  4  5]\n",
      " [ 3  4  6]]\n",
      "\n",
      "Array sorted by names:\n",
      " [(b'Aakash', 2009, 9. ) (b'Ajay', 2008, 8.7) (b'Hrithik', 2009, 8.5)\n",
      " (b'Pankaj', 2008, 7.9)]\n",
      "Array sorted by grauation year and then cgpa:\n",
      " [(b'Pankaj', 2008, 7.9) (b'Ajay', 2008, 8.7) (b'Hrithik', 2009, 8.5)\n",
      " (b'Aakash', 2009, 9. )]\n"
     ]
    }
   ],
   "source": [
    "a = np.array([[1, 4, 2],\n",
    "              [3, 4,6],\n",
    "              [0, -1, 5]])\n",
    "\n",
    "# sorted array\n",
    "print(\"Array elements in sorted order:\\n\", np.sort(a, axis = None))\n",
    "\n",
    "# sort array row-wise\n",
    "print(\"Row-wise sorted array:\\n\", np.sort(a, axis = 1))\n",
    "\n",
    "# specify sort algorithm\n",
    "print(\"Column wise sort by applying merge-sort:\\n\", np.sort(a, axis = 0, kind = 'mergesort'))\n",
    "\n",
    "# example to show sorting of structured array\n",
    "## set alias names for dtypes\n",
    "# data type of name is s stands for string and 20 is maximum length of string\n",
    "dtypes = [('name', 'S20'), ('grad_year', int), ('cgpa', float)]\n",
    "## values to be put in array\n",
    "values = [('Hrithik', 2009, 8.5), ('Ajay', 2008, 8.7), ('Pankaj', 2008, 7.9), ('Aakash', 2009, 9.0)]\n",
    "## creating array\n",
    "arr = np.array(values, dtype = dtypes)\n",
    "print(\"\\nArray sorted by names:\\n\", np.sort(arr, order = 'name'))\n",
    "print(\"Array sorted by grauation year and then cgpa:\\n\", np.sort(arr, order = ['grad_year', 'cgpa']))"
   ]
  },
  {
   "cell_type": "markdown",
   "metadata": {},
   "source": [
    "## Stacking and Splitting\n",
    "Several arrays can be stacked together along different axes.\n",
    "\n",
    "#### np.vstack: To stack arrays along vertical axis.\n",
    "\n",
    "#### np.hstack: To stack arrays along horizontal axis.\n",
    "\n",
    "#### np.column_stack: To stack 1-D arrays as columns into 2-D arrays.\n",
    "\n",
    "#### np.concatenate: To stack arrays along specified axis (axis is passed as argument)."
   ]
  },
  {
   "cell_type": "code",
   "execution_count": 6,
   "metadata": {},
   "outputs": [
    {
     "name": "stdout",
     "output_type": "stream",
     "text": [
      "Vertical stacking:\n",
      " [[1 2]\n",
      " [3 4]\n",
      " [5 6]\n",
      " [7 8]]\n",
      "\n",
      "Horizontal stacking:\n",
      " [[1 2 5 6]\n",
      " [3 4 7 8]]\n",
      "\n",
      "Column stacking:\n",
      " [[1 2 5]\n",
      " [3 4 6]]\n",
      "\n",
      "Concatenating to 2nd axis:\n",
      " [[1 2 5 6]\n",
      " [3 4 7 8]]\n"
     ]
    }
   ],
   "source": [
    "a = np.array([[1, 2],\n",
    "              [3, 4]])\n",
    "\n",
    "b = np.array([[5, 6],\n",
    "              [7, 8]])\n",
    "\n",
    "# vertical stacking\n",
    "print(\"Vertical stacking:\\n\", np.vstack((a, b)))\n",
    "\n",
    "# horizontal stacking\n",
    "print(\"\\nHorizontal stacking:\\n\", np.hstack((a, b)))\n",
    "\n",
    "c = [5, 6]\n",
    "\n",
    "# stacking columns\n",
    "print(\"\\nColumn stacking:\\n\", np.column_stack((a, c)))\n",
    "\n",
    "# concatenation method \n",
    "print(\"\\nConcatenating to 2nd axis:\\n\", np.concatenate((a, b), 1))"
   ]
  },
  {
   "cell_type": "markdown",
   "metadata": {},
   "source": [
    "### For splitting, we have these fuctions:\n",
    "\n",
    "#### np.hsplit: Split array along horizontal axis.\n",
    "\n",
    "#### np.vsplit: Split array along vertical axis.\n",
    "\n",
    "#### np.array_split: Split array along specified axis."
   ]
  },
  {
   "cell_type": "code",
   "execution_count": 10,
   "metadata": {},
   "outputs": [
    {
     "name": "stdout",
     "output_type": "stream",
     "text": [
      "Splitting along horizontal axis into 2 parts:\n",
      " [array([[1, 3, 5],\n",
      "       [2, 4, 6]]), array([[ 7,  9, 11],\n",
      "       [ 8, 10, 12]])]\n",
      "\n",
      "Splitting along vertical axis into 2 parts:\n",
      " [array([[ 1,  3,  5,  7,  9, 11]]), array([[ 2,  4,  6,  8, 10, 12]])]\n"
     ]
    }
   ],
   "source": [
    "a = np.array([[1, 3, 5, 7, 9, 11],\n",
    "              [2, 4, 6, 8, 10, 12]])\n",
    "\n",
    "# horizontal splitting - colwise\n",
    "print(\"Splitting along horizontal axis into 2 parts:\\n\", np.hsplit(a, 2))\n",
    "\n",
    "# vertical splitting - rowwise\n",
    "print(\"\\nSplitting along vertical axis into 2 parts:\\n\", np.vsplit(a, 2))"
   ]
  },
  {
   "cell_type": "markdown",
   "metadata": {},
   "source": [
    "### Some More Numpy Functions - Statistics\n",
    "-- min, max\n",
    "-- mean\n",
    "-- median\n",
    "-- average\n",
    "-- variance\n",
    "-- standard devidation"
   ]
  },
  {
   "cell_type": "code",
   "execution_count": 11,
   "metadata": {},
   "outputs": [
    {
     "name": "stdout",
     "output_type": "stream",
     "text": [
      "[[1 2 3 4]\n",
      " [7 6 2 0]]\n",
      "0\n",
      "[1 2 2 0]\n",
      "[1 0]\n"
     ]
    }
   ],
   "source": [
    "a = np.array([[1,2,3,4],[7,6,2,0]])\n",
    "print(a)\n",
    "print(np.min(a))\n",
    "#Specify axis for the direction in case of multidim array\n",
    "print(np.min(a,axis=0))\n",
    "print(np.min(a,axis=1))"
   ]
  },
  {
   "cell_type": "code",
   "execution_count": 12,
   "metadata": {},
   "outputs": [
    {
     "name": "stdout",
     "output_type": "stream",
     "text": [
      "3.0\n",
      "3.0\n",
      "[4.  4.  2.5 2. ]\n",
      "[2.5  3.75]\n"
     ]
    }
   ],
   "source": [
    "b = np.array([1,2,3,4,5])\n",
    "m = sum(b)/5\n",
    "print(m)\n",
    "\n",
    "print(np.mean(b))\n",
    "print(np.mean(a,axis=0))\n",
    "print(np.mean(a,axis=1))"
   ]
  },
  {
   "cell_type": "code",
   "execution_count": 13,
   "metadata": {},
   "outputs": [
    {
     "name": "stdout",
     "output_type": "stream",
     "text": [
      "2.0\n",
      "2.4\n",
      "2.4\n",
      "1.854723699099141\n",
      "1.854723699099141\n",
      "3.440000000000001\n",
      "3.4400000000000004\n"
     ]
    }
   ],
   "source": [
    "c = np.array([1,5,4,2,0])\n",
    "print(np.median(c))\n",
    "\n",
    "# Mean vs Average is Weighted\n",
    "print(np.mean(c))\n",
    "\n",
    "# Weights \n",
    "w = np.array([1,1,1,1,1])\n",
    "print(np.average(c,weights=w))\n",
    "\n",
    "# weighted mean => n1*w1 + n2*w2 / n1+n2 \n",
    "\n",
    "# Standard Deviation\n",
    "u = np.mean(c)\n",
    "myStd = np.sqrt(np.mean(abs(c-u)**2))\n",
    "print(myStd)\n",
    "\n",
    "#Inbuilt Function\n",
    "dev= np.std(c)\n",
    "print(dev)\n",
    "\n",
    "#Variance\n",
    "print(myStd**2)\n",
    "print(np.var(c))"
   ]
  },
  {
   "cell_type": "markdown",
   "metadata": {},
   "source": [
    "### Numpy Random Module\n",
    "#### rand : Random values in a given shape.\n",
    "#### randn : Return a sample (or samples) from the “standard normal” distribution.\n",
    "#### randint : Return random integers from low (inclusive) to high (exclusive).\n",
    "#### random : Return random floats in the half-open interval [0.0, 1.0)\n",
    "####  choice : Generates a random sample from a given 1-D array\n",
    "####  Shuffle : Shuffles the contents of a sequence"
   ]
  },
  {
   "cell_type": "code",
   "execution_count": 22,
   "metadata": {},
   "outputs": [
    {
     "name": "stdout",
     "output_type": "stream",
     "text": [
      "[ 5  6  7  8  9 10 11 12 13 14]\n",
      "[ 7 14 11  9  5  8  6 12 13 10]\n",
      "[[ 1.5827523  -1.04514683  0.25759352]\n",
      " [-1.9593946  -1.50780766 -0.31529207]]\n",
      "[7 9 6]\n",
      "4\n"
     ]
    }
   ],
   "source": [
    "a = np.arange(10) + 5\n",
    "print(a)\n",
    "\n",
    "np.random.seed(1)\n",
    "np.random.shuffle(a)\n",
    "print(a)\n",
    "\n",
    "#Returns values from a Standard Normal Distributions\n",
    "a = np.random.randn(2,3)\n",
    "print(a)\n",
    "\n",
    "a = np.random.randint(5,10,3)\n",
    "print(a)\n",
    "\n",
    "#Randoly pick one element from a array\n",
    "element = np.random.choice([1,4,3,2,11,27])\n",
    "print(element)"
   ]
  },
  {
   "cell_type": "code",
   "execution_count": null,
   "metadata": {},
   "outputs": [],
   "source": []
  }
 ],
 "metadata": {
  "kernelspec": {
   "display_name": "Python 3",
   "language": "python",
   "name": "python3"
  },
  "language_info": {
   "codemirror_mode": {
    "name": "ipython",
    "version": 3
   },
   "file_extension": ".py",
   "mimetype": "text/x-python",
   "name": "python",
   "nbconvert_exporter": "python",
   "pygments_lexer": "ipython3",
   "version": "3.8.3"
  }
 },
 "nbformat": 4,
 "nbformat_minor": 4
}
