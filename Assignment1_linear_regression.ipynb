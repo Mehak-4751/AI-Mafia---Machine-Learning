{
 "cells": [
  {
   "cell_type": "markdown",
   "metadata": {},
   "source": [
    "# Assignment1\n",
    "## Smart watch(Linear Regression)\n",
    "\n",
    "### Since you are a student of Coding Club, you are expected to work hard and get better results than others. To track your time and expected performance in the Machine Learning Challenge, Rishabh bhaiya has asked you to install walkatime on your device which is an efficient time tracking tool to track your daily coding activity. In this challenge, Rishabh bhaiya gives you walkatime data of his past students and how they performed in the evaluation exam. Your task is to predict the score you will get given the amount of time you spend on coding daily. \n",
    "### Input- You are given one feature corresponding to time noted by walkatime.\n",
    "### Output- A scalar denoting the level of performance students achieved by devoting the given time.\n",
    "### Please find the attached training and testing data."
   ]
  },
  {
   "cell_type": "code",
   "execution_count": 1,
   "metadata": {},
   "outputs": [],
   "source": [
    "import pandas as pd\n",
    "import numpy as np\n",
    "import matplotlib.pyplot as plt"
   ]
  },
  {
   "cell_type": "code",
   "execution_count": 20,
   "metadata": {},
   "outputs": [
    {
     "name": "stdout",
     "output_type": "stream",
     "text": [
      "          x\n",
      "0 -0.289307\n",
      "1 -0.588810\n",
      "2  1.027507\n",
      "3 -0.259013\n",
      "4  0.782043\n",
      "(3750, 1)\n",
      "(3750,)\n",
      "[-0.28930742 -0.58880963  1.02750749 ... -0.30516366  1.67583291\n",
      " -0.49175724]\n"
     ]
    }
   ],
   "source": [
    "x_train=pd.read_csv('Linear_X_Train.csv')\n",
    "print(x_train.head())\n",
    "print(x_train.shape)\n",
    "x_train=x_train.values.reshape(-1)\n",
    "print(x_train.shape)\n",
    "print(x_train)"
   ]
  },
  {
   "cell_type": "code",
   "execution_count": 21,
   "metadata": {},
   "outputs": [
    {
     "name": "stdout",
     "output_type": "stream",
     "text": [
      "           y\n",
      "0  -0.091101\n",
      "1 -53.467721\n",
      "2  75.457009\n",
      "3 -12.025286\n",
      "4  57.414187\n",
      "(3750, 1)\n",
      "(3750,)\n",
      "[-9.11011171e-02 -5.34677208e+01  7.54570088e+01 ... -3.49832749e+01\n",
      "  1.45206092e+02 -1.71244939e+01]\n"
     ]
    }
   ],
   "source": [
    "y_train=pd.read_csv('Linear_Y_Train.csv')\n",
    "print(y_train.head())\n",
    "print(y_train.shape)\n",
    "y_train=y_train.values.reshape(-1)\n",
    "print(y_train.shape)\n",
    "print(y_train)"
   ]
  },
  {
   "cell_type": "code",
   "execution_count": 46,
   "metadata": {},
   "outputs": [],
   "source": [
    "x_train=(x_train-x_train.mean())/x_train.std()"
   ]
  },
  {
   "cell_type": "code",
   "execution_count": 22,
   "metadata": {},
   "outputs": [
    {
     "name": "stdout",
     "output_type": "stream",
     "text": [
      "          x\n",
      "0 -1.877944\n",
      "1 -0.869032\n",
      "2 -2.530182\n",
      "3  2.760205\n",
      "4  0.591000\n",
      "(1250, 1)\n",
      "(1250,)\n",
      "[-1.87794441 -0.86903192 -2.53018242 ...  0.12800782 -0.27803759\n",
      " -0.68042543]\n"
     ]
    }
   ],
   "source": [
    "x_test=pd.read_csv('Linear_X_Test.csv')\n",
    "print(x_test.head())\n",
    "print(x_test.shape)\n",
    "x_test=x_test.values.reshape(-1)\n",
    "print(x_test.shape)\n",
    "print(x_test)"
   ]
  },
  {
   "cell_type": "code",
   "execution_count": 8,
   "metadata": {},
   "outputs": [
    {
     "data": {
      "image/png": "[encoded data removed]",
      "text/plain": [
       "<Figure size 432x288 with 1 Axes>"
      ]
     },
     "metadata": {
      "needs_background": "light"
     },
     "output_type": "display_data"
    }
   ],
   "source": [
    "plt.scatter(x_train,y_train,color='red',label='Training Data')\n",
    "plt.legend()\n",
    "plt.show()"
   ]
  },
  {
   "cell_type": "code",
   "execution_count": 9,
   "metadata": {},
   "outputs": [],
   "source": [
    "def hypothesis(x,theta):\n",
    "    return theta[0]+theta[1]*x"
   ]
  },
  {
   "cell_type": "code",
   "execution_count": 39,
   "metadata": {},
   "outputs": [],
   "source": [
    "def error(x,theta,y):\n",
    "    err=0\n",
    "    for i in range(x.shape[0]):\n",
    "        hx=hypothesis(x[i],theta);\n",
    "        err+=(y[i]-hx)**2\n",
    "    return err"
   ]
  },
  {
   "cell_type": "code",
   "execution_count": 40,
   "metadata": {},
   "outputs": [],
   "source": [
    "def gradient(x,theta,y):\n",
    "    grad=np.zeros((2,))\n",
    "    for i in range(x.shape[0]):\n",
    "        hx=hypothesis(x[i],theta)\n",
    "        grad[0]+=(hx-y[i])\n",
    "        grad[1]+=(hx-y[i])*x[i]\n",
    "    return grad"
   ]
  },
  {
   "cell_type": "code",
   "execution_count": 41,
   "metadata": {},
   "outputs": [],
   "source": [
    "def gradient_descent(x,y,learning_rate=0.01):\n",
    "    theta=[1.0,0.5]\n",
    "    err_list=[]\n",
    "    theta_list=[]\n",
    "    for i in range(100):\n",
    "        err=error(x,theta,y)\n",
    "        err_list.append(err)\n",
    "        theta_list.append(theta)\n",
    "        d=gradient(x,theta,y)\n",
    "        theta[0]-=learning_rate*d[0]\n",
    "        theta[1]-=learning_rate*d[1]\n",
    "    return theta,err_list,theta_list"
   ]
  },
  {
   "cell_type": "code",
   "execution_count": 47,
   "metadata": {},
   "outputs": [],
   "source": [
    "final_value,error_list,theta_list=gradient_descent(x_train,y_train)"
   ]
  },
  {
   "cell_type": "code",
   "execution_count": 48,
   "metadata": {},
   "outputs": [
    {
     "name": "stdout",
     "output_type": "stream",
     "text": [
      "[0.6838689680155892, 79.90573694249977]\n"
     ]
    }
   ],
   "source": [
    "print(final_value)"
   ]
  },
  {
   "cell_type": "code",
   "execution_count": 49,
   "metadata": {},
   "outputs": [
    {
     "data": {
      "image/png": "[encoded data removed]",
      "text/plain": [
       "<Figure size 432x288 with 1 Axes>"
      ]
     },
     "metadata": {
      "needs_background": "light"
     },
     "output_type": "display_data"
    }
   ],
   "source": [
    "plt.plot(error_list)\n",
    "plt.show()"
   ]
  },
  {
   "cell_type": "code",
   "execution_count": 50,
   "metadata": {},
   "outputs": [
    {
     "data": {
      "image/png": "[encoded data removed]",
      "text/plain": [
       "<Figure size 432x288 with 1 Axes>"
      ]
     },
     "metadata": {
      "needs_background": "light"
     },
     "output_type": "display_data"
    }
   ],
   "source": [
    "x=x_test\n",
    "y=final_value[0]+final_value[1]*x\n",
    "plt.plot(x,y,color='black',label='Training Data')\n",
    "plt.scatter(x_train,y_train,color='red',label='Testing Data')\n",
    "plt.legend()\n",
    "plt.show()"
   ]
  },
  {
   "cell_type": "markdown",
   "metadata": {},
   "source": [
    "# Inbuilt Library"
   ]
  },
  {
   "cell_type": "code",
   "execution_count": 51,
   "metadata": {},
   "outputs": [
    {
     "name": "stdout",
     "output_type": "stream",
     "text": [
      "          x\n",
      "0 -0.289307\n",
      "1 -0.588810\n",
      "2  1.027507\n",
      "3 -0.259013\n",
      "4  0.782043\n",
      "(3750, 1)\n"
     ]
    }
   ],
   "source": [
    "x_train=pd.read_csv('Linear_X_Train.csv')\n",
    "print(x_train.head())\n",
    "print(x_train.shape)"
   ]
  },
  {
   "cell_type": "code",
   "execution_count": 52,
   "metadata": {},
   "outputs": [
    {
     "name": "stdout",
     "output_type": "stream",
     "text": [
      "           y\n",
      "0  -0.091101\n",
      "1 -53.467721\n",
      "2  75.457009\n",
      "3 -12.025286\n",
      "4  57.414187\n",
      "(3750, 1)\n"
     ]
    }
   ],
   "source": [
    "y_train=pd.read_csv('Linear_Y_Train.csv')\n",
    "print(y_train.head())\n",
    "print(y_train.shape)"
   ]
  },
  {
   "cell_type": "code",
   "execution_count": 53,
   "metadata": {},
   "outputs": [
    {
     "name": "stdout",
     "output_type": "stream",
     "text": [
      "          x\n",
      "0 -1.877944\n",
      "1 -0.869032\n",
      "2 -2.530182\n",
      "3  2.760205\n",
      "4  0.591000\n",
      "(1250, 1)\n"
     ]
    }
   ],
   "source": [
    "x_test=pd.read_csv('Linear_X_Test.csv')\n",
    "print(x_test.head())\n",
    "print(x_test.shape)"
   ]
  },
  {
   "cell_type": "code",
   "execution_count": 54,
   "metadata": {},
   "outputs": [
    {
     "name": "stdout",
     "output_type": "stream",
     "text": [
      "          x\n",
      "0 -0.253487\n",
      "1 -0.555340\n",
      "2  1.073663\n",
      "3 -0.222955\n",
      "4  0.826272\n",
      "(3750, 1)\n"
     ]
    }
   ],
   "source": [
    "#Normalisation\n",
    "x_train=(x_train-x_train.mean())/x_train.std()\n",
    "print(x_train.head())\n",
    "print(x_train.shape)"
   ]
  },
  {
   "cell_type": "code",
   "execution_count": 56,
   "metadata": {},
   "outputs": [],
   "source": [
    "from sklearn.linear_model import LinearRegression\n",
    "model=LinearRegression()"
   ]
  },
  {
   "cell_type": "code",
   "execution_count": 57,
   "metadata": {},
   "outputs": [
    {
     "data": {
      "text/plain": [
       "LinearRegression()"
      ]
     },
     "execution_count": 57,
     "metadata": {},
     "output_type": "execute_result"
    }
   ],
   "source": [
    "model.fit(x_train,y_train)"
   ]
  },
  {
   "cell_type": "code",
   "execution_count": 58,
   "metadata": {},
   "outputs": [
    {
     "data": {
      "text/plain": [
       "0.9709612233822353"
      ]
     },
     "execution_count": 58,
     "metadata": {},
     "output_type": "execute_result"
    }
   ],
   "source": [
    "model.score(x_train,y_train)"
   ]
  },
  {
   "cell_type": "code",
   "execution_count": 62,
   "metadata": {},
   "outputs": [
    {
     "name": "stdout",
     "output_type": "stream",
     "text": [
      "[0.68386897] [[79.91639317]]\n"
     ]
    }
   ],
   "source": [
    "bias=model.intercept_\n",
    "coeff=model.coef_\n",
    "print(bias,coeff)"
   ]
  },
  {
   "cell_type": "code",
   "execution_count": 63,
   "metadata": {},
   "outputs": [
    {
     "name": "stdout",
     "output_type": "stream",
     "text": [
      "[[-149.39467518]\n",
      " [ -68.7660273 ]\n",
      " [-201.51918447]\n",
      " ...\n",
      " [  10.91379233]\n",
      " [ -21.53589237]\n",
      " [ -53.6932771 ]]\n"
     ]
    }
   ],
   "source": [
    "output=model.predict(x_test)\n",
    "print(output)"
   ]
  },
  {
   "cell_type": "code",
   "execution_count": 64,
   "metadata": {},
   "outputs": [
    {
     "data": {
      "image/png": "[encoded data removed]",
      "text/plain": [
       "<Figure size 432x288 with 1 Axes>"
      ]
     },
     "metadata": {
      "needs_background": "light"
     },
     "output_type": "display_data"
    }
   ],
   "source": [
    "plt.scatter(x_train,y_train,color='yellow',label='Training data')\n",
    "plt.plot(x_test,output,color='black',label='Testing data')\n",
    "plt.legend()\n",
    "plt.show()"
   ]
  }
 ],
 "metadata": {
  "kernelspec": {
   "display_name": "Python 3",
   "language": "python",
   "name": "python3"
  },
  "language_info": {
   "codemirror_mode": {
    "name": "ipython",
    "version": 3
   },
   "file_extension": ".py",
   "mimetype": "text/x-python",
   "name": "python",
   "nbconvert_exporter": "python",
   "pygments_lexer": "ipython3",
   "version": "3.8.3"
  }
 },
 "nbformat": 4,
 "nbformat_minor": 4
}
