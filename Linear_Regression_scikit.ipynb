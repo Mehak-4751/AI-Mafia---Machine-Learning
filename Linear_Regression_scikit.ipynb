{
 "cells": [
  {
   "cell_type": "code",
   "execution_count": 1,
   "metadata": {},
   "outputs": [],
   "source": [
    "import pandas as pd\n",
    "import numpy as np\n",
    "import matplotlib.pyplot as plt"
   ]
  },
  {
   "cell_type": "code",
   "execution_count": 2,
   "metadata": {},
   "outputs": [
    {
     "name": "stdout",
     "output_type": "stream",
     "text": [
      "(99, 1) (99, 1)\n"
     ]
    }
   ],
   "source": [
    "dfx=pd.read_csv('linearX.csv')\n",
    "dfy=pd.read_csv('linearY.csv')\n",
    "print(dfx.shape,dfy.shape)"
   ]
  },
  {
   "cell_type": "code",
   "execution_count": 3,
   "metadata": {},
   "outputs": [],
   "source": [
    "x=dfx.values\n",
    "y=dfy.values"
   ]
  },
  {
   "cell_type": "code",
   "execution_count": 6,
   "metadata": {},
   "outputs": [
    {
     "data": {
      "image/png": "[encoded data removed]",
      "text/plain": [
       "<Figure size 432x288 with 1 Axes>"
      ]
     },
     "metadata": {
      "needs_background": "light"
     },
     "output_type": "display_data"
    }
   ],
   "source": [
    "plt.scatter(x,y)\n",
    "plt.show()"
   ]
  },
  {
   "cell_type": "code",
   "execution_count": 11,
   "metadata": {},
   "outputs": [],
   "source": [
    "from sklearn.linear_model import LinearRegression\n",
    "model=LinearRegression()\n",
    "model.fit(x,y)  # training data\n",
    "output=model.predict(x) # predict data"
   ]
  },
  {
   "cell_type": "code",
   "execution_count": 12,
   "metadata": {},
   "outputs": [
    {
     "name": "stdout",
     "output_type": "stream",
     "text": [
      "[[0.99659367]\n",
      " [0.99745779]\n",
      " [0.9969079 ]\n",
      " [0.99572956]\n",
      " [0.99635801]\n",
      " [1.00256392]\n",
      " [0.99604378]\n",
      " [0.99580811]\n",
      " [0.99596523]\n",
      " [0.99824335]\n",
      " [0.99934313]\n",
      " [0.99588667]\n",
      " [0.99816479]\n",
      " [0.99730068]\n",
      " [0.99651512]\n",
      " [0.99470833]\n",
      " [0.99525822]\n",
      " [0.99557245]\n",
      " [0.99847902]\n",
      " [0.99698645]\n",
      " [0.99612234]\n",
      " [0.99525822]\n",
      " [0.99455122]\n",
      " [0.99730068]\n",
      " [0.99769346]\n",
      " [0.99620089]\n",
      " [0.99965735]\n",
      " [0.99643656]\n",
      " [0.99612234]\n",
      " [0.99879324]\n",
      " [0.9983219 ]\n",
      " [0.99517967]\n",
      " [0.99635801]\n",
      " [1.00107136]\n",
      " [0.99659367]\n",
      " [0.99557245]\n",
      " [0.99557245]\n",
      " [0.99580811]\n",
      " [0.99682934]\n",
      " [0.99612234]\n",
      " [0.99808624]\n",
      " [0.99510111]\n",
      " [0.99580811]\n",
      " [0.99455122]\n",
      " [0.99871468]\n",
      " [0.99627945]\n",
      " [0.99730068]\n",
      " [0.99753634]\n",
      " [0.99549389]\n",
      " [0.99596523]\n",
      " [0.99659367]\n",
      " [0.99643656]\n",
      " [0.99651512]\n",
      " [0.99580811]\n",
      " [0.99580811]\n",
      " [0.99627945]\n",
      " [0.99745779]\n",
      " [0.99737923]\n",
      " [0.99651512]\n",
      " [0.99549389]\n",
      " [0.99965735]\n",
      " [0.99541533]\n",
      " [0.99588667]\n",
      " [0.99722212]\n",
      " [0.99620089]\n",
      " [0.99635801]\n",
      " [0.99502255]\n",
      " [0.99863613]\n",
      " [0.99549389]\n",
      " [0.99675079]\n",
      " [0.99651512]\n",
      " [0.99588667]\n",
      " [0.99470833]\n",
      " [0.99533678]\n",
      " [0.99620089]\n",
      " [0.99800768]\n",
      " [0.99580811]\n",
      " [0.99855757]\n",
      " [0.99588667]\n",
      " [0.99517967]\n",
      " [0.99541533]\n",
      " [0.99635801]\n",
      " [0.99596523]\n",
      " [0.9976149 ]\n",
      " [0.99698645]\n",
      " [0.99635801]\n",
      " [0.995651  ]\n",
      " [0.99643656]\n",
      " [0.99714356]\n",
      " [0.99785057]\n",
      " [0.99596523]\n",
      " [0.9976149 ]\n",
      " [0.99667223]\n",
      " [0.99549389]\n",
      " [0.99643656]\n",
      " [0.9983219 ]\n",
      " [0.99510111]\n",
      " [0.99604378]\n",
      " [0.99604378]]\n"
     ]
    }
   ],
   "source": [
    "print(output)"
   ]
  },
  {
   "cell_type": "code",
   "execution_count": 13,
   "metadata": {},
   "outputs": [
    {
     "name": "stdout",
     "output_type": "stream",
     "text": [
      "[0.9903092]\n",
      "[[0.00078556]]\n"
     ]
    }
   ],
   "source": [
    "bias=model.intercept_  #intercept\n",
    "coeff=model.coef_      #slope\n",
    "print(bias)\n",
    "print(coeff)"
   ]
  },
  {
   "cell_type": "code",
   "execution_count": 17,
   "metadata": {},
   "outputs": [
    {
     "data": {
      "text/plain": [
       "0.43818504557920035"
      ]
     },
     "execution_count": 17,
     "metadata": {},
     "output_type": "execute_result"
    }
   ],
   "source": [
    "model.score(x,y)  # finding score"
   ]
  },
  {
   "cell_type": "code",
   "execution_count": 16,
   "metadata": {},
   "outputs": [
    {
     "data": {
      "image/png": "[encoded data removed]",
      "text/plain": [
       "<Figure size 432x288 with 1 Axes>"
      ]
     },
     "metadata": {
      "needs_background": "light"
     },
     "output_type": "display_data"
    }
   ],
   "source": [
    "plt.scatter(x,y,label='Training Data')\n",
    "plt.plot(x,output,label='Predicted',color='black')\n",
    "plt.legend()\n",
    "plt.show()"
   ]
  }
 ],
 "metadata": {
  "kernelspec": {
   "display_name": "Python 3",
   "language": "python",
   "name": "python3"
  },
  "language_info": {
   "codemirror_mode": {
    "name": "ipython",
    "version": 3
   },
   "file_extension": ".py",
   "mimetype": "text/x-python",
   "name": "python",
   "nbconvert_exporter": "python",
   "pygments_lexer": "ipython3",
   "version": "3.8.3"
  }
 },
 "nbformat": 4,
 "nbformat_minor": 4
}
